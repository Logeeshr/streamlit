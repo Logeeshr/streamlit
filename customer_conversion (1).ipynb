{
  "cells": [
    {
      "cell_type": "markdown",
      "metadata": {
        "id": "5mauY7XL2uQ2"
      },
      "source": [
        "**Import Dependcies**"
      ]
    },
    {
      "cell_type": "code",
      "execution_count": null,
      "metadata": {
        "id": "yWfg9TRf2keM"
      },
      "outputs": [],
      "source": [
        "#libraries for data cleaning and EDA\n",
        "import pandas as pd\n",
        "import numpy as np\n",
        "import matplotlib.pyplot as plt\n",
        "import seaborn as sns\n",
        "\n",
        "#library for train test data split and Sacaling\n",
        "from sklearn.model_selection import train_test_split\n",
        "from sklearn.preprocessing import StandardScaler\n",
        "\n",
        "#library for balancing the data\n",
        "from imblearn.combine import SMOTEENN\n",
        "\n",
        "#libraries for Model Building\n",
        "from sklearn.linear_model import LogisticRegression\n",
        "from sklearn.neighbors import KNeighborsClassifier\n",
        "from sklearn.tree import DecisionTreeClassifier \n",
        "from sklearn.ensemble import RandomForestClassifier\n",
        "import xgboost as xgb\n",
        "\n",
        "import warnings\n",
        "warnings.filterwarnings('ignore')"
      ]
    },
    {
      "cell_type": "markdown",
      "metadata": {
        "id": "Azv1KPh7-fIz"
      },
      "source": [
        "# **DATA CLEANING**"
      ]
    },
    {
      "cell_type": "markdown",
      "metadata": {
        "id": "X1lVbF-z4N1u"
      },
      "source": [
        "**Data Importing**"
      ]
    },
    {
      "cell_type": "code",
      "execution_count": null,
      "metadata": {
        "id": "LAowdcyBh2cc"
      },
      "outputs": [],
      "source": [
        "cus_df = pd.read_csv(\"/content/train.csv\")"
      ]
    },
    {
      "cell_type": "markdown",
      "metadata": {
        "id": "oiykPnrI4asf"
      },
      "source": [
        "**Understanding the Data**"
      ]
    },
    {
      "cell_type": "code",
      "execution_count": null,
      "metadata": {
        "colab": {
          "base_uri": "https://localhost:8080/",
          "height": 206
        },
        "id": "0mo994luh2fj",
        "outputId": "f80987e6-fcf4-49db-ab5e-6b97cbb5ca7a"
      },
      "outputs": [
        {
          "output_type": "execute_result",
          "data": {
            "text/plain": [
              "   age           job  marital education_qual call_type  day  mon  dur  \\\n",
              "0   58    management  married       tertiary   unknown    5  may  261   \n",
              "1   44    technician   single      secondary   unknown    5  may  151   \n",
              "2   33  entrepreneur  married      secondary   unknown    5  may   76   \n",
              "3   47   blue-collar  married        unknown   unknown    5  may   92   \n",
              "4   33       unknown   single        unknown   unknown    5  may  198   \n",
              "\n",
              "   num_calls prev_outcome   y  \n",
              "0          1      unknown  no  \n",
              "1          1      unknown  no  \n",
              "2          1      unknown  no  \n",
              "3          1      unknown  no  \n",
              "4          1      unknown  no  "
            ],
            "text/html": [
              "\n",
              "  <div id=\"df-5f3ea0c1-5e22-4b11-a6a8-e1ba0286ab5b\">\n",
              "    <div class=\"colab-df-container\">\n",
              "      <div>\n",
              "<style scoped>\n",
              "    .dataframe tbody tr th:only-of-type {\n",
              "        vertical-align: middle;\n",
              "    }\n",
              "\n",
              "    .dataframe tbody tr th {\n",
              "        vertical-align: top;\n",
              "    }\n",
              "\n",
              "    .dataframe thead th {\n",
              "        text-align: right;\n",
              "    }\n",
              "</style>\n",
              "<table border=\"1\" class=\"dataframe\">\n",
              "  <thead>\n",
              "    <tr style=\"text-align: right;\">\n",
              "      <th></th>\n",
              "      <th>age</th>\n",
              "      <th>job</th>\n",
              "      <th>marital</th>\n",
              "      <th>education_qual</th>\n",
              "      <th>call_type</th>\n",
              "      <th>day</th>\n",
              "      <th>mon</th>\n",
              "      <th>dur</th>\n",
              "      <th>num_calls</th>\n",
              "      <th>prev_outcome</th>\n",
              "      <th>y</th>\n",
              "    </tr>\n",
              "  </thead>\n",
              "  <tbody>\n",
              "    <tr>\n",
              "      <th>0</th>\n",
              "      <td>58</td>\n",
              "      <td>management</td>\n",
              "      <td>married</td>\n",
              "      <td>tertiary</td>\n",
              "      <td>unknown</td>\n",
              "      <td>5</td>\n",
              "      <td>may</td>\n",
              "      <td>261</td>\n",
              "      <td>1</td>\n",
              "      <td>unknown</td>\n",
              "      <td>no</td>\n",
              "    </tr>\n",
              "    <tr>\n",
              "      <th>1</th>\n",
              "      <td>44</td>\n",
              "      <td>technician</td>\n",
              "      <td>single</td>\n",
              "      <td>secondary</td>\n",
              "      <td>unknown</td>\n",
              "      <td>5</td>\n",
              "      <td>may</td>\n",
              "      <td>151</td>\n",
              "      <td>1</td>\n",
              "      <td>unknown</td>\n",
              "      <td>no</td>\n",
              "    </tr>\n",
              "    <tr>\n",
              "      <th>2</th>\n",
              "      <td>33</td>\n",
              "      <td>entrepreneur</td>\n",
              "      <td>married</td>\n",
              "      <td>secondary</td>\n",
              "      <td>unknown</td>\n",
              "      <td>5</td>\n",
              "      <td>may</td>\n",
              "      <td>76</td>\n",
              "      <td>1</td>\n",
              "      <td>unknown</td>\n",
              "      <td>no</td>\n",
              "    </tr>\n",
              "    <tr>\n",
              "      <th>3</th>\n",
              "      <td>47</td>\n",
              "      <td>blue-collar</td>\n",
              "      <td>married</td>\n",
              "      <td>unknown</td>\n",
              "      <td>unknown</td>\n",
              "      <td>5</td>\n",
              "      <td>may</td>\n",
              "      <td>92</td>\n",
              "      <td>1</td>\n",
              "      <td>unknown</td>\n",
              "      <td>no</td>\n",
              "    </tr>\n",
              "    <tr>\n",
              "      <th>4</th>\n",
              "      <td>33</td>\n",
              "      <td>unknown</td>\n",
              "      <td>single</td>\n",
              "      <td>unknown</td>\n",
              "      <td>unknown</td>\n",
              "      <td>5</td>\n",
              "      <td>may</td>\n",
              "      <td>198</td>\n",
              "      <td>1</td>\n",
              "      <td>unknown</td>\n",
              "      <td>no</td>\n",
              "    </tr>\n",
              "  </tbody>\n",
              "</table>\n",
              "</div>\n",
              "      <button class=\"colab-df-convert\" onclick=\"convertToInteractive('df-5f3ea0c1-5e22-4b11-a6a8-e1ba0286ab5b')\"\n",
              "              title=\"Convert this dataframe to an interactive table.\"\n",
              "              style=\"display:none;\">\n",
              "        \n",
              "  <svg xmlns=\"http://www.w3.org/2000/svg\" height=\"24px\"viewBox=\"0 0 24 24\"\n",
              "       width=\"24px\">\n",
              "    <path d=\"M0 0h24v24H0V0z\" fill=\"none\"/>\n",
              "    <path d=\"M18.56 5.44l.94 2.06.94-2.06 2.06-.94-2.06-.94-.94-2.06-.94 2.06-2.06.94zm-11 1L8.5 8.5l.94-2.06 2.06-.94-2.06-.94L8.5 2.5l-.94 2.06-2.06.94zm10 10l.94 2.06.94-2.06 2.06-.94-2.06-.94-.94-2.06-.94 2.06-2.06.94z\"/><path d=\"M17.41 7.96l-1.37-1.37c-.4-.4-.92-.59-1.43-.59-.52 0-1.04.2-1.43.59L10.3 9.45l-7.72 7.72c-.78.78-.78 2.05 0 2.83L4 21.41c.39.39.9.59 1.41.59.51 0 1.02-.2 1.41-.59l7.78-7.78 2.81-2.81c.8-.78.8-2.07 0-2.86zM5.41 20L4 18.59l7.72-7.72 1.47 1.35L5.41 20z\"/>\n",
              "  </svg>\n",
              "      </button>\n",
              "      \n",
              "  <style>\n",
              "    .colab-df-container {\n",
              "      display:flex;\n",
              "      flex-wrap:wrap;\n",
              "      gap: 12px;\n",
              "    }\n",
              "\n",
              "    .colab-df-convert {\n",
              "      background-color: #E8F0FE;\n",
              "      border: none;\n",
              "      border-radius: 50%;\n",
              "      cursor: pointer;\n",
              "      display: none;\n",
              "      fill: #1967D2;\n",
              "      height: 32px;\n",
              "      padding: 0 0 0 0;\n",
              "      width: 32px;\n",
              "    }\n",
              "\n",
              "    .colab-df-convert:hover {\n",
              "      background-color: #E2EBFA;\n",
              "      box-shadow: 0px 1px 2px rgba(60, 64, 67, 0.3), 0px 1px 3px 1px rgba(60, 64, 67, 0.15);\n",
              "      fill: #174EA6;\n",
              "    }\n",
              "\n",
              "    [theme=dark] .colab-df-convert {\n",
              "      background-color: #3B4455;\n",
              "      fill: #D2E3FC;\n",
              "    }\n",
              "\n",
              "    [theme=dark] .colab-df-convert:hover {\n",
              "      background-color: #434B5C;\n",
              "      box-shadow: 0px 1px 3px 1px rgba(0, 0, 0, 0.15);\n",
              "      filter: drop-shadow(0px 1px 2px rgba(0, 0, 0, 0.3));\n",
              "      fill: #FFFFFF;\n",
              "    }\n",
              "  </style>\n",
              "\n",
              "      <script>\n",
              "        const buttonEl =\n",
              "          document.querySelector('#df-5f3ea0c1-5e22-4b11-a6a8-e1ba0286ab5b button.colab-df-convert');\n",
              "        buttonEl.style.display =\n",
              "          google.colab.kernel.accessAllowed ? 'block' : 'none';\n",
              "\n",
              "        async function convertToInteractive(key) {\n",
              "          const element = document.querySelector('#df-5f3ea0c1-5e22-4b11-a6a8-e1ba0286ab5b');\n",
              "          const dataTable =\n",
              "            await google.colab.kernel.invokeFunction('convertToInteractive',\n",
              "                                                     [key], {});\n",
              "          if (!dataTable) return;\n",
              "\n",
              "          const docLinkHtml = 'Like what you see? Visit the ' +\n",
              "            '<a target=\"_blank\" href=https://colab.research.google.com/notebooks/data_table.ipynb>data table notebook</a>'\n",
              "            + ' to learn more about interactive tables.';\n",
              "          element.innerHTML = '';\n",
              "          dataTable['output_type'] = 'display_data';\n",
              "          await google.colab.output.renderOutput(dataTable, element);\n",
              "          const docLink = document.createElement('div');\n",
              "          docLink.innerHTML = docLinkHtml;\n",
              "          element.appendChild(docLink);\n",
              "        }\n",
              "      </script>\n",
              "    </div>\n",
              "  </div>\n",
              "  "
            ]
          },
          "metadata": {},
          "execution_count": 4
        }
      ],
      "source": [
        "cus_df.head()#print first five columns"
      ]
    },
    {
      "cell_type": "code",
      "execution_count": null,
      "metadata": {
        "colab": {
          "base_uri": "https://localhost:8080/"
        },
        "id": "IV5pfx-sjWEk",
        "outputId": "82c5e898-8d98-4733-858c-f2608cfbe6d7"
      },
      "outputs": [
        {
          "output_type": "stream",
          "name": "stdout",
          "text": [
            "<class 'pandas.core.frame.DataFrame'>\n",
            "RangeIndex: 45211 entries, 0 to 45210\n",
            "Data columns (total 11 columns):\n",
            " #   Column          Non-Null Count  Dtype \n",
            "---  ------          --------------  ----- \n",
            " 0   age             45211 non-null  int64 \n",
            " 1   job             45211 non-null  object\n",
            " 2   marital         45211 non-null  object\n",
            " 3   education_qual  45211 non-null  object\n",
            " 4   call_type       45211 non-null  object\n",
            " 5   day             45211 non-null  int64 \n",
            " 6   mon             45211 non-null  object\n",
            " 7   dur             45211 non-null  int64 \n",
            " 8   num_calls       45211 non-null  int64 \n",
            " 9   prev_outcome    45211 non-null  object\n",
            " 10  y               45211 non-null  object\n",
            "dtypes: int64(4), object(7)\n",
            "memory usage: 3.8+ MB\n"
          ]
        }
      ],
      "source": [
        "#checking the data type and number of columns\n",
        "cus_df.info()"
      ]
    },
    {
      "cell_type": "code",
      "execution_count": null,
      "metadata": {
        "colab": {
          "base_uri": "https://localhost:8080/"
        },
        "id": "Q-JYmJVhjpOs",
        "outputId": "cf4cb600-2212-4c04-a470-29708a299e81"
      },
      "outputs": [
        {
          "output_type": "stream",
          "name": "stdout",
          "text": [
            "Number of Rows in the dataset:  45211\n",
            "Number of Rows in the dataset:  11\n"
          ]
        }
      ],
      "source": [
        "print(\"Number of Rows in the dataset: \",cus_df.shape[0])\n",
        "print(\"Number of Rows in the dataset: \",cus_df.shape[1])"
      ]
    },
    {
      "cell_type": "code",
      "execution_count": null,
      "metadata": {
        "colab": {
          "base_uri": "https://localhost:8080/",
          "height": 300
        },
        "id": "2DBBnC-jjtWU",
        "outputId": "ae66cb73-7361-49d3-bd3e-21a7583b59c9"
      },
      "outputs": [
        {
          "output_type": "execute_result",
          "data": {
            "text/plain": [
              "                age           day           dur     num_calls\n",
              "count  45211.000000  45211.000000  45211.000000  45211.000000\n",
              "mean      40.936210     15.806419    258.163080      2.763841\n",
              "std       10.618762      8.322476    257.527812      3.098021\n",
              "min       18.000000      1.000000      0.000000      1.000000\n",
              "25%       33.000000      8.000000    103.000000      1.000000\n",
              "50%       39.000000     16.000000    180.000000      2.000000\n",
              "75%       48.000000     21.000000    319.000000      3.000000\n",
              "max       95.000000     31.000000   4918.000000     63.000000"
            ],
            "text/html": [
              "\n",
              "  <div id=\"df-c42d0127-027d-481a-88fd-12b63c8ac8be\">\n",
              "    <div class=\"colab-df-container\">\n",
              "      <div>\n",
              "<style scoped>\n",
              "    .dataframe tbody tr th:only-of-type {\n",
              "        vertical-align: middle;\n",
              "    }\n",
              "\n",
              "    .dataframe tbody tr th {\n",
              "        vertical-align: top;\n",
              "    }\n",
              "\n",
              "    .dataframe thead th {\n",
              "        text-align: right;\n",
              "    }\n",
              "</style>\n",
              "<table border=\"1\" class=\"dataframe\">\n",
              "  <thead>\n",
              "    <tr style=\"text-align: right;\">\n",
              "      <th></th>\n",
              "      <th>age</th>\n",
              "      <th>day</th>\n",
              "      <th>dur</th>\n",
              "      <th>num_calls</th>\n",
              "    </tr>\n",
              "  </thead>\n",
              "  <tbody>\n",
              "    <tr>\n",
              "      <th>count</th>\n",
              "      <td>45211.000000</td>\n",
              "      <td>45211.000000</td>\n",
              "      <td>45211.000000</td>\n",
              "      <td>45211.000000</td>\n",
              "    </tr>\n",
              "    <tr>\n",
              "      <th>mean</th>\n",
              "      <td>40.936210</td>\n",
              "      <td>15.806419</td>\n",
              "      <td>258.163080</td>\n",
              "      <td>2.763841</td>\n",
              "    </tr>\n",
              "    <tr>\n",
              "      <th>std</th>\n",
              "      <td>10.618762</td>\n",
              "      <td>8.322476</td>\n",
              "      <td>257.527812</td>\n",
              "      <td>3.098021</td>\n",
              "    </tr>\n",
              "    <tr>\n",
              "      <th>min</th>\n",
              "      <td>18.000000</td>\n",
              "      <td>1.000000</td>\n",
              "      <td>0.000000</td>\n",
              "      <td>1.000000</td>\n",
              "    </tr>\n",
              "    <tr>\n",
              "      <th>25%</th>\n",
              "      <td>33.000000</td>\n",
              "      <td>8.000000</td>\n",
              "      <td>103.000000</td>\n",
              "      <td>1.000000</td>\n",
              "    </tr>\n",
              "    <tr>\n",
              "      <th>50%</th>\n",
              "      <td>39.000000</td>\n",
              "      <td>16.000000</td>\n",
              "      <td>180.000000</td>\n",
              "      <td>2.000000</td>\n",
              "    </tr>\n",
              "    <tr>\n",
              "      <th>75%</th>\n",
              "      <td>48.000000</td>\n",
              "      <td>21.000000</td>\n",
              "      <td>319.000000</td>\n",
              "      <td>3.000000</td>\n",
              "    </tr>\n",
              "    <tr>\n",
              "      <th>max</th>\n",
              "      <td>95.000000</td>\n",
              "      <td>31.000000</td>\n",
              "      <td>4918.000000</td>\n",
              "      <td>63.000000</td>\n",
              "    </tr>\n",
              "  </tbody>\n",
              "</table>\n",
              "</div>\n",
              "      <button class=\"colab-df-convert\" onclick=\"convertToInteractive('df-c42d0127-027d-481a-88fd-12b63c8ac8be')\"\n",
              "              title=\"Convert this dataframe to an interactive table.\"\n",
              "              style=\"display:none;\">\n",
              "        \n",
              "  <svg xmlns=\"http://www.w3.org/2000/svg\" height=\"24px\"viewBox=\"0 0 24 24\"\n",
              "       width=\"24px\">\n",
              "    <path d=\"M0 0h24v24H0V0z\" fill=\"none\"/>\n",
              "    <path d=\"M18.56 5.44l.94 2.06.94-2.06 2.06-.94-2.06-.94-.94-2.06-.94 2.06-2.06.94zm-11 1L8.5 8.5l.94-2.06 2.06-.94-2.06-.94L8.5 2.5l-.94 2.06-2.06.94zm10 10l.94 2.06.94-2.06 2.06-.94-2.06-.94-.94-2.06-.94 2.06-2.06.94z\"/><path d=\"M17.41 7.96l-1.37-1.37c-.4-.4-.92-.59-1.43-.59-.52 0-1.04.2-1.43.59L10.3 9.45l-7.72 7.72c-.78.78-.78 2.05 0 2.83L4 21.41c.39.39.9.59 1.41.59.51 0 1.02-.2 1.41-.59l7.78-7.78 2.81-2.81c.8-.78.8-2.07 0-2.86zM5.41 20L4 18.59l7.72-7.72 1.47 1.35L5.41 20z\"/>\n",
              "  </svg>\n",
              "      </button>\n",
              "      \n",
              "  <style>\n",
              "    .colab-df-container {\n",
              "      display:flex;\n",
              "      flex-wrap:wrap;\n",
              "      gap: 12px;\n",
              "    }\n",
              "\n",
              "    .colab-df-convert {\n",
              "      background-color: #E8F0FE;\n",
              "      border: none;\n",
              "      border-radius: 50%;\n",
              "      cursor: pointer;\n",
              "      display: none;\n",
              "      fill: #1967D2;\n",
              "      height: 32px;\n",
              "      padding: 0 0 0 0;\n",
              "      width: 32px;\n",
              "    }\n",
              "\n",
              "    .colab-df-convert:hover {\n",
              "      background-color: #E2EBFA;\n",
              "      box-shadow: 0px 1px 2px rgba(60, 64, 67, 0.3), 0px 1px 3px 1px rgba(60, 64, 67, 0.15);\n",
              "      fill: #174EA6;\n",
              "    }\n",
              "\n",
              "    [theme=dark] .colab-df-convert {\n",
              "      background-color: #3B4455;\n",
              "      fill: #D2E3FC;\n",
              "    }\n",
              "\n",
              "    [theme=dark] .colab-df-convert:hover {\n",
              "      background-color: #434B5C;\n",
              "      box-shadow: 0px 1px 3px 1px rgba(0, 0, 0, 0.15);\n",
              "      filter: drop-shadow(0px 1px 2px rgba(0, 0, 0, 0.3));\n",
              "      fill: #FFFFFF;\n",
              "    }\n",
              "  </style>\n",
              "\n",
              "      <script>\n",
              "        const buttonEl =\n",
              "          document.querySelector('#df-c42d0127-027d-481a-88fd-12b63c8ac8be button.colab-df-convert');\n",
              "        buttonEl.style.display =\n",
              "          google.colab.kernel.accessAllowed ? 'block' : 'none';\n",
              "\n",
              "        async function convertToInteractive(key) {\n",
              "          const element = document.querySelector('#df-c42d0127-027d-481a-88fd-12b63c8ac8be');\n",
              "          const dataTable =\n",
              "            await google.colab.kernel.invokeFunction('convertToInteractive',\n",
              "                                                     [key], {});\n",
              "          if (!dataTable) return;\n",
              "\n",
              "          const docLinkHtml = 'Like what you see? Visit the ' +\n",
              "            '<a target=\"_blank\" href=https://colab.research.google.com/notebooks/data_table.ipynb>data table notebook</a>'\n",
              "            + ' to learn more about interactive tables.';\n",
              "          element.innerHTML = '';\n",
              "          dataTable['output_type'] = 'display_data';\n",
              "          await google.colab.output.renderOutput(dataTable, element);\n",
              "          const docLink = document.createElement('div');\n",
              "          docLink.innerHTML = docLinkHtml;\n",
              "          element.appendChild(docLink);\n",
              "        }\n",
              "      </script>\n",
              "    </div>\n",
              "  </div>\n",
              "  "
            ]
          },
          "metadata": {},
          "execution_count": 7
        }
      ],
      "source": [
        "#statistical Information about numerical columns\n",
        "cus_df.describe()"
      ]
    },
    {
      "cell_type": "code",
      "execution_count": null,
      "metadata": {
        "colab": {
          "base_uri": "https://localhost:8080/"
        },
        "id": "g2RdLy2ujv7E",
        "outputId": "ca56b126-200b-4b28-efd0-d31fd3c06dbb"
      },
      "outputs": [
        {
          "output_type": "stream",
          "name": "stdout",
          "text": [
            "categorical columns:  ['job', 'marital', 'education_qual', 'call_type', 'mon', 'prev_outcome', 'y']\n",
            "Numcerical columns:  ['age', 'day', 'dur', 'num_calls']\n"
          ]
        }
      ],
      "source": [
        "#categorical columns\n",
        "cus_df_cat = cus_df.select_dtypes(include = object)\n",
        "cus_df_cat = cus_df_cat.columns.tolist()\n",
        "print('categorical columns: ',cus_df_cat)\n",
        "\n",
        "#Numerical columns\n",
        "cus_df_num = cus_df.select_dtypes(exclude = object)\n",
        "cus_df_num = cus_df_num.columns.tolist()\n",
        "print('Numcerical columns: ',cus_df_num)\n"
      ]
    },
    {
      "cell_type": "code",
      "execution_count": null,
      "metadata": {
        "colab": {
          "base_uri": "https://localhost:8080/"
        },
        "id": "QMmbMRxhk6U8",
        "outputId": "d91985a0-b0d1-446c-a30e-4b41c5c09a9c"
      },
      "outputs": [
        {
          "output_type": "stream",
          "name": "stdout",
          "text": [
            "job: ['management' 'technician' 'entrepreneur' 'blue-collar' 'unknown'\n",
            " 'retired' 'admin.' 'services' 'self-employed' 'unemployed' 'housemaid'\n",
            " 'student'] \n",
            "\n",
            "marital: ['married' 'single' 'divorced'] \n",
            "\n",
            "education_qual: ['tertiary' 'secondary' 'unknown' 'primary'] \n",
            "\n",
            "call_type: ['unknown' 'cellular' 'telephone'] \n",
            "\n",
            "mon: ['may' 'jun' 'jul' 'aug' 'oct' 'nov' 'dec' 'jan' 'feb' 'mar' 'apr' 'sep'] \n",
            "\n",
            "prev_outcome: ['unknown' 'failure' 'other' 'success'] \n",
            "\n",
            "y: ['no' 'yes'] \n",
            "\n"
          ]
        }
      ],
      "source": [
        "#unique values in categorical columns\n",
        "for i in cus_df_cat:\n",
        "  print(f'{i}'+ \":\",cus_df[i].unique(),'\\n')"
      ]
    },
    {
      "cell_type": "code",
      "execution_count": null,
      "metadata": {
        "colab": {
          "base_uri": "https://localhost:8080/"
        },
        "id": "mwRZ5PeVmg3j",
        "outputId": "285ac99f-1c05-4465-8453-b321c780c32f"
      },
      "outputs": [
        {
          "output_type": "execute_result",
          "data": {
            "text/plain": [
              "6"
            ]
          },
          "metadata": {},
          "execution_count": 10
        }
      ],
      "source": [
        "#number of duplicates in data\n",
        "cus_df.duplicated().sum()"
      ]
    },
    {
      "cell_type": "code",
      "execution_count": null,
      "metadata": {
        "colab": {
          "base_uri": "https://localhost:8080/"
        },
        "id": "bD-u575nnFqE",
        "outputId": "8fc91152-c4c5-4302-adf6-5e800cf331f4"
      },
      "outputs": [
        {
          "output_type": "stream",
          "name": "stdout",
          "text": [
            "Now the dataset has 45205 rows and 11 columns after dropping duplicates\n"
          ]
        }
      ],
      "source": [
        "#we have only 6 duplicates so decided to drop the duplicates\n",
        "cus_df = cus_df.drop_duplicates()\n",
        "print(\"Now the dataset has {} rows and {} columns after dropping duplicates\".format(cus_df.shape[0], cus_df.shape[1]))"
      ]
    },
    {
      "cell_type": "markdown",
      "metadata": {
        "id": "zNFxjtu-wF6e"
      },
      "source": [
        "**Target column**"
      ]
    },
    {
      "cell_type": "code",
      "execution_count": null,
      "metadata": {
        "colab": {
          "base_uri": "https://localhost:8080/"
        },
        "id": "-GWiySWkptBz",
        "outputId": "f51fc14c-977d-4a9b-c723-88e424c69d6b"
      },
      "outputs": [
        {
          "output_type": "stream",
          "name": "stdout",
          "text": [
            "Class No: 39916\n",
            "Class yes: 5289\n",
            "The percentage of data where insurance is not given: 88.29996681782988\n"
          ]
        }
      ],
      "source": [
        "target_count = cus_df['y'].value_counts()\n",
        "print('Class No:',  target_count[0])\n",
        "print('Class yes:',  target_count[1])\n",
        "print(\"The percentage of data where insurance is not given:\", ((cus_df['y']=='no').sum()/cus_df.shape[0])*100)"
      ]
    },
    {
      "cell_type": "code",
      "execution_count": null,
      "metadata": {
        "colab": {
          "base_uri": "https://localhost:8080/",
          "height": 279
        },
        "id": "2y0a6DZgxOPE",
        "outputId": "42960c3e-77e6-4e90-96f2-f990c81b23ff"
      },
      "outputs": [
        {
          "output_type": "display_data",
          "data": {
            "text/plain": [
              "<Figure size 432x288 with 1 Axes>"
            ],
            "image/png": "[encoded data removed]"
          },
          "metadata": {
            "needs_background": "light"
          }
        }
      ],
      "source": [
        "sns.countplot('y',data=cus_df)\n",
        "plt.show()"
      ]
    },
    {
      "cell_type": "markdown",
      "metadata": {
        "id": "aekks5rtzhfa"
      },
      "source": [
        "1. Since, more than 70% of target data is 'no', it is an imbalanced learning problem.\n",
        "2. So, we will use 'Cluster-Centroid Undersampling' or 'SMOTE Oversampling'. (else. 'SMOTEEN')."
      ]
    },
    {
      "cell_type": "code",
      "execution_count": null,
      "metadata": {
        "colab": {
          "base_uri": "https://localhost:8080/"
        },
        "id": "BPB1a4cdyCWE",
        "outputId": "6f23bba4-205c-46e4-8f71-b937b2689a2d"
      },
      "outputs": [
        {
          "output_type": "stream",
          "name": "stdout",
          "text": [
            "The percentage of data where insurance is not given: 88.29996681782988\n"
          ]
        }
      ],
      "source": [
        "print(\"The percentage of data where insurance is not given:\", ((cus_df['y']=='no').sum()/cus_df.shape[0])*100)"
      ]
    },
    {
      "cell_type": "markdown",
      "metadata": {
        "id": "IdjIB6JH08rT"
      },
      "source": [
        "**AGE** - Column"
      ]
    },
    {
      "cell_type": "code",
      "execution_count": null,
      "metadata": {
        "colab": {
          "base_uri": "https://localhost:8080/"
        },
        "id": "gchKe_ygymfD",
        "outputId": "c3525b50-0231-41c4-de3a-033edb1c0984"
      },
      "outputs": [
        {
          "output_type": "execute_result",
          "data": {
            "text/plain": [
              "0"
            ]
          },
          "metadata": {},
          "execution_count": 15
        }
      ],
      "source": [
        "#checking for null values\n",
        "cus_df['age'].isnull().sum()"
      ]
    },
    {
      "cell_type": "code",
      "execution_count": null,
      "metadata": {
        "id": "7WGSwPgDuvnY"
      },
      "outputs": [],
      "source": [
        "#converting the datatype\n",
        "cus_df['age'] = cus_df['age'].astype('int64')"
      ]
    },
    {
      "cell_type": "code",
      "execution_count": null,
      "metadata": {
        "id": "IvOhj-0NIAeS"
      },
      "outputs": [],
      "source": [
        "cus_df['age'] = cus_df['age'].astype(int)"
      ]
    },
    {
      "cell_type": "code",
      "execution_count": null,
      "metadata": {
        "colab": {
          "base_uri": "https://localhost:8080/",
          "height": 312
        },
        "id": "qxkHucDJ1F-S",
        "outputId": "41a482c8-0867-4342-9c2f-ca4571ae470a"
      },
      "outputs": [
        {
          "output_type": "execute_result",
          "data": {
            "text/plain": [
              "Text(0.5, 1.0, 'Checking outliers')"
            ]
          },
          "metadata": {},
          "execution_count": 18
        },
        {
          "output_type": "display_data",
          "data": {
            "text/plain": [
              "<Figure size 432x288 with 1 Axes>"
            ],
            "image/png": "[encoded data removed]"
          },
          "metadata": {
            "needs_background": "light"
          }
        }
      ],
      "source": [
        "#plot for checking outliers\n",
        "sns.boxplot('age',data=cus_df)\n",
        "plt.title(\"Checking outliers\",)"
      ]
    },
    {
      "cell_type": "code",
      "execution_count": null,
      "metadata": {
        "id": "NttfP7nZ1b9T"
      },
      "outputs": [],
      "source": [
        "def detect_outliers(dataframe, column):\n",
        "    Q1 = dataframe[column].quantile(0.25)\n",
        "    Q3 = dataframe[column].quantile(0.75)\n",
        "    IQR = Q3 - Q1\n",
        "    lower_fence = Q1 - 1.5*(IQR)\n",
        "    upper_fence = Q3 + 1.5*(IQR)\n",
        "    total_outliers = dataframe.loc[(dataframe[column] < lower_fence) | (dataframe[column] > upper_fence)]\n",
        "    \n",
        "    print(\"LowerFence: {}, UpperFence: {}\\n{} Outliers present in {}\".format(lower_fence, upper_fence, len(total_outliers), column))"
      ]
    },
    {
      "cell_type": "code",
      "execution_count": null,
      "metadata": {
        "colab": {
          "base_uri": "https://localhost:8080/"
        },
        "id": "oucqnwf4159w",
        "outputId": "a9e45183-3d70-49c7-c4a7-1a48cd719a22"
      },
      "outputs": [
        {
          "output_type": "stream",
          "name": "stdout",
          "text": [
            "LowerFence: 10.5, UpperFence: 70.5\n",
            "487 Outliers present in age\n"
          ]
        }
      ],
      "source": [
        "detect_outliers(cus_df,'age')"
      ]
    },
    {
      "cell_type": "code",
      "execution_count": null,
      "metadata": {
        "id": "1c9pRfLi4mMl"
      },
      "outputs": [],
      "source": [
        "def clip_outliers(dataframe, column):\n",
        "    Q1 = dataframe[column].quantile(0.25)\n",
        "    Q3 = dataframe[column].quantile(0.75)\n",
        "    IQR = Q3 - Q1\n",
        "    lower_fence = Q1 - 1.5*(IQR)\n",
        "    upper_fence = Q3 + 1.5*(IQR)\n",
        "    dataframe[column] = dataframe[column].clip(lower_fence, upper_fence)"
      ]
    },
    {
      "cell_type": "code",
      "execution_count": null,
      "metadata": {
        "id": "Zofsy2qA4pk0"
      },
      "outputs": [],
      "source": [
        "#cliping the outliers\n",
        "clip_outliers(cus_df,'age')"
      ]
    },
    {
      "cell_type": "code",
      "execution_count": null,
      "metadata": {
        "colab": {
          "base_uri": "https://localhost:8080/",
          "height": 295
        },
        "id": "kZEVcK004sFj",
        "outputId": "14ab0cc5-b572-4d5b-fefd-7e2312c34788"
      },
      "outputs": [
        {
          "output_type": "display_data",
          "data": {
            "text/plain": [
              "<Figure size 432x288 with 1 Axes>"
            ],
            "image/png": "[encoded data removed]"
          },
          "metadata": {
            "needs_background": "light"
          }
        }
      ],
      "source": [
        "#boxplot after cliping outliers\n",
        "sns.boxplot(cus_df['age'])\n",
        "plt.title(\"Checking outliers after clipping\",)\n",
        "plt.show()"
      ]
    },
    {
      "cell_type": "markdown",
      "metadata": {
        "id": "TxLWCwGr6Ufa"
      },
      "source": [
        "**Job** -- column"
      ]
    },
    {
      "cell_type": "code",
      "execution_count": null,
      "metadata": {
        "colab": {
          "base_uri": "https://localhost:8080/"
        },
        "id": "jllZbgCw6TMT",
        "outputId": "701f17f5-e0c4-4004-e001-091089f677ef"
      },
      "outputs": [
        {
          "output_type": "execute_result",
          "data": {
            "text/plain": [
              "array(['management', 'technician', 'entrepreneur', 'blue-collar',\n",
              "       'unknown', 'retired', 'admin.', 'services', 'self-employed',\n",
              "       'unemployed', 'housemaid', 'student'], dtype=object)"
            ]
          },
          "metadata": {},
          "execution_count": 24
        }
      ],
      "source": [
        "#unique values in job column\n",
        "cus_df['job'].unique()"
      ]
    },
    {
      "cell_type": "code",
      "execution_count": null,
      "metadata": {
        "colab": {
          "base_uri": "https://localhost:8080/"
        },
        "id": "k_KY_jMm41fS",
        "outputId": "80dbb7cb-c25d-43f4-ec5f-de33d06fb5d8"
      },
      "outputs": [
        {
          "output_type": "execute_result",
          "data": {
            "text/plain": [
              "288"
            ]
          },
          "metadata": {},
          "execution_count": 25
        }
      ],
      "source": [
        "#No. of rows have unknown values\n",
        "(cus_df['job']=='unknown').sum()"
      ]
    },
    {
      "cell_type": "code",
      "execution_count": null,
      "metadata": {
        "colab": {
          "base_uri": "https://localhost:8080/"
        },
        "id": "jCk_WzAK7IuU",
        "outputId": "a26d25f6-59d9-4023-ad75-d721257d3b43"
      },
      "outputs": [
        {
          "output_type": "stream",
          "name": "stdout",
          "text": [
            "The percentage of unknown data is: 0.6370976661873686\n"
          ]
        }
      ],
      "source": [
        "print(\"The percentage of unknown data is:\", ((cus_df['job']=='unknown').sum()/cus_df.shape[0])*100)"
      ]
    },
    {
      "cell_type": "markdown",
      "metadata": {
        "id": "Gd8z1jz57dni"
      },
      "source": [
        "Only 0.6% of data is unknown in the job feature is unknown, so i decided to drop the unknown values in the feature"
      ]
    },
    {
      "cell_type": "code",
      "execution_count": null,
      "metadata": {
        "id": "atBbW-eq7dL7"
      },
      "outputs": [],
      "source": [
        "cus_df = cus_df.drop(cus_df[cus_df['job']=='unknown'].index).reset_index(drop=True)"
      ]
    },
    {
      "cell_type": "code",
      "execution_count": null,
      "metadata": {
        "colab": {
          "base_uri": "https://localhost:8080/"
        },
        "id": "vYyJuRa87Prb",
        "outputId": "ef091292-64ae-453f-8820-05a7c3f1fd5d"
      },
      "outputs": [
        {
          "output_type": "stream",
          "name": "stdout",
          "text": [
            "Now the dataset has 44917 rows and 11 columns after dropping unknown values in job\n"
          ]
        }
      ],
      "source": [
        "print(\"Now the dataset has {} rows and {} columns after dropping unknown values in job\".format(cus_df.shape[0], cus_df.shape[1]))"
      ]
    },
    {
      "cell_type": "code",
      "execution_count": null,
      "metadata": {
        "id": "hbIPMq9v8gPr"
      },
      "outputs": [],
      "source": [
        "#Spelling Correction\n",
        "cus_df['job'].replace(\"admin.\",\"admin\",inplace=True)"
      ]
    },
    {
      "cell_type": "code",
      "execution_count": null,
      "metadata": {
        "colab": {
          "base_uri": "https://localhost:8080/"
        },
        "id": "xxLLxh1b8-4T",
        "outputId": "8a06736c-ff84-4dce-c6a1-6925341b5890"
      },
      "outputs": [
        {
          "output_type": "execute_result",
          "data": {
            "text/plain": [
              "blue-collar      9730\n",
              "management       9457\n",
              "technician       7596\n",
              "admin            5170\n",
              "services         4153\n",
              "retired          2264\n",
              "self-employed    1579\n",
              "entrepreneur     1487\n",
              "unemployed       1303\n",
              "housemaid        1240\n",
              "student           938\n",
              "Name: job, dtype: int64"
            ]
          },
          "metadata": {},
          "execution_count": 30
        }
      ],
      "source": [
        "#value count for each type of job\n",
        "cus_df['job'].value_counts()"
      ]
    },
    {
      "cell_type": "code",
      "source": [
        "cus_df['target'] = cus_df['y'].map({\"yes\":1,\"no\":0})"
      ],
      "metadata": {
        "id": "p6jpKLznr8zH"
      },
      "execution_count": null,
      "outputs": []
    },
    {
      "cell_type": "code",
      "source": [
        "cus_df.groupby('job')['target'].mean()"
      ],
      "metadata": {
        "colab": {
          "base_uri": "https://localhost:8080/"
        },
        "id": "8idg1uKHIq0k",
        "outputId": "1ace2dc9-2953-4335-a70c-821c55e29a7c"
      },
      "execution_count": null,
      "outputs": [
        {
          "output_type": "execute_result",
          "data": {
            "text/plain": [
              "job\n",
              "admin            0.122050\n",
              "blue-collar      0.072765\n",
              "entrepreneur     0.082717\n",
              "housemaid        0.087903\n",
              "management       0.137570\n",
              "retired          0.227915\n",
              "self-employed    0.118429\n",
              "services         0.088851\n",
              "student          0.286780\n",
              "technician       0.110585\n",
              "unemployed       0.155027\n",
              "Name: target, dtype: float64"
            ]
          },
          "metadata": {},
          "execution_count": 32
        }
      ]
    },
    {
      "cell_type": "markdown",
      "source": [
        "Student has higher conversion rate than blue collar jobs and management people who have higher value counts.So targeting the students more would be a better decision"
      ],
      "metadata": {
        "id": "8PW57X9NIvIS"
      }
    },
    {
      "cell_type": "markdown",
      "metadata": {
        "id": "R5GL1WxV_zZ1"
      },
      "source": [
        "**Marital** -- Column"
      ]
    },
    {
      "cell_type": "code",
      "execution_count": null,
      "metadata": {
        "colab": {
          "base_uri": "https://localhost:8080/"
        },
        "id": "BEmoPjNfAKuS",
        "outputId": "03b4a662-a20e-489d-c43d-a0e3672caa24"
      },
      "outputs": [
        {
          "output_type": "execute_result",
          "data": {
            "text/plain": [
              "0"
            ]
          },
          "metadata": {},
          "execution_count": 33
        }
      ],
      "source": [
        "#checking the null Values\n",
        "cus_df.marital.isnull().sum()"
      ]
    },
    {
      "cell_type": "code",
      "execution_count": null,
      "metadata": {
        "colab": {
          "base_uri": "https://localhost:8080/"
        },
        "id": "MIBPZPAo_yYz",
        "outputId": "e37e8d02-33a1-4f4b-e4be-c7a80afa2937"
      },
      "outputs": [
        {
          "output_type": "execute_result",
          "data": {
            "text/plain": [
              "married     27007\n",
              "single      12720\n",
              "divorced     5190\n",
              "Name: marital, dtype: int64"
            ]
          },
          "metadata": {},
          "execution_count": 34
        }
      ],
      "source": [
        "#value count for each kind of marriage\n",
        "cus_df['marital'].value_counts()"
      ]
    },
    {
      "cell_type": "code",
      "source": [
        "cus_df.groupby('marital')['target'].mean()"
      ],
      "metadata": {
        "colab": {
          "base_uri": "https://localhost:8080/"
        },
        "id": "HGqXYlUZISc0",
        "outputId": "8eec2d75-9eaa-4148-b6c3-b0f8924ea07d"
      },
      "execution_count": null,
      "outputs": [
        {
          "output_type": "execute_result",
          "data": {
            "text/plain": [
              "marital\n",
              "divorced    0.119653\n",
              "married     0.101233\n",
              "single      0.149371\n",
              "Name: target, dtype: float64"
            ]
          },
          "metadata": {},
          "execution_count": 35
        }
      ]
    },
    {
      "cell_type": "markdown",
      "source": [
        "Conversion rate is higher in single followed by divorced and married people"
      ],
      "metadata": {
        "id": "BoEkF33QIaU5"
      }
    },
    {
      "cell_type": "markdown",
      "metadata": {
        "id": "DVxjTXnaAZXs"
      },
      "source": [
        "**Education_qual** -- Column"
      ]
    },
    {
      "cell_type": "code",
      "execution_count": null,
      "metadata": {
        "colab": {
          "base_uri": "https://localhost:8080/"
        },
        "id": "ncpYcauEAXsy",
        "outputId": "517045b6-c3da-4e04-89f2-c77c8080a1b1"
      },
      "outputs": [
        {
          "output_type": "execute_result",
          "data": {
            "text/plain": [
              "0"
            ]
          },
          "metadata": {},
          "execution_count": 36
        }
      ],
      "source": [
        "#checking the null Values\n",
        "cus_df['education_qual'].isnull().sum()"
      ]
    },
    {
      "cell_type": "code",
      "execution_count": null,
      "metadata": {
        "colab": {
          "base_uri": "https://localhost:8080/"
        },
        "id": "qg1Nu-wh9Cz7",
        "outputId": "8a72a2ee-1341-48a3-c8b8-11eae6bb95bb"
      },
      "outputs": [
        {
          "output_type": "execute_result",
          "data": {
            "text/plain": [
              "array(['tertiary', 'secondary', 'unknown', 'primary'], dtype=object)"
            ]
          },
          "metadata": {},
          "execution_count": 37
        }
      ],
      "source": [
        "#unique values in education column\n",
        "cus_df['education_qual'].unique()"
      ]
    },
    {
      "cell_type": "code",
      "execution_count": null,
      "metadata": {
        "colab": {
          "base_uri": "https://localhost:8080/"
        },
        "id": "ShbAQovs97zP",
        "outputId": "daa1699e-ca06-44ee-842a-e567a7dee553"
      },
      "outputs": [
        {
          "output_type": "execute_result",
          "data": {
            "text/plain": [
              "secondary    23128\n",
              "tertiary     13260\n",
              "primary       6799\n",
              "unknown       1730\n",
              "Name: education_qual, dtype: int64"
            ]
          },
          "metadata": {},
          "execution_count": 38
        }
      ],
      "source": [
        "#value counts in Education Column\n",
        "cus_df['education_qual'].value_counts()"
      ]
    },
    {
      "cell_type": "code",
      "execution_count": null,
      "metadata": {
        "colab": {
          "base_uri": "https://localhost:8080/"
        },
        "id": "1crmfPIY972O",
        "outputId": "49da15ba-2fca-4256-d201-498d137ae330"
      },
      "outputs": [
        {
          "output_type": "stream",
          "name": "stdout",
          "text": [
            "The percentage of unknown data is: 3.8515484115145715\n"
          ]
        }
      ],
      "source": [
        "print(\"The percentage of unknown data is:\", ((cus_df['education_qual']=='unknown').sum() / cus_df.shape[0])*100)"
      ]
    },
    {
      "cell_type": "code",
      "execution_count": null,
      "metadata": {
        "colab": {
          "base_uri": "https://localhost:8080/"
        },
        "id": "9xbCTMrN9XKL",
        "outputId": "cf4f3803-bff3-4822-f50a-baf10fae57a6"
      },
      "outputs": [
        {
          "output_type": "execute_result",
          "data": {
            "text/plain": [
              "secondary    23128\n",
              "tertiary     13260\n",
              "primary       6799\n",
              "unknown       1730\n",
              "Name: education_qual, dtype: int64"
            ]
          },
          "metadata": {},
          "execution_count": 40
        }
      ],
      "source": [
        "cus_df['education_qual'].value_counts()"
      ]
    },
    {
      "cell_type": "code",
      "source": [
        "cus_df.groupby('education_qual')['target'].mean()"
      ],
      "metadata": {
        "colab": {
          "base_uri": "https://localhost:8080/"
        },
        "id": "byPFHnr4H4MK",
        "outputId": "a9d61c86-6cc7-4c79-d07d-cd87e3c2e32e"
      },
      "execution_count": null,
      "outputs": [
        {
          "output_type": "execute_result",
          "data": {
            "text/plain": [
              "education_qual\n",
              "primary      0.086483\n",
              "secondary    0.105543\n",
              "tertiary     0.150226\n",
              "unknown      0.135260\n",
              "Name: target, dtype: float64"
            ]
          },
          "metadata": {},
          "execution_count": 41
        }
      ]
    },
    {
      "cell_type": "markdown",
      "metadata": {
        "id": "3TMdQmVHEkfj"
      },
      "source": [
        "**Call type** -- Column"
      ]
    },
    {
      "cell_type": "code",
      "execution_count": null,
      "metadata": {
        "colab": {
          "base_uri": "https://localhost:8080/"
        },
        "id": "i12WF06iCRgD",
        "outputId": "cb34deee-0cb7-4dca-a146-1a8dbe6934cb"
      },
      "outputs": [
        {
          "output_type": "execute_result",
          "data": {
            "text/plain": [
              "0"
            ]
          },
          "metadata": {},
          "execution_count": 42
        }
      ],
      "source": [
        "#checking the null Values\n",
        "cus_df['call_type'].isnull().sum()"
      ]
    },
    {
      "cell_type": "code",
      "execution_count": null,
      "metadata": {
        "colab": {
          "base_uri": "https://localhost:8080/"
        },
        "id": "aJyW2bVbGmGH",
        "outputId": "1b30819c-c190-4b47-d48d-7b83750606b4"
      },
      "outputs": [
        {
          "output_type": "execute_result",
          "data": {
            "text/plain": [
              "cellular     29151\n",
              "unknown      12906\n",
              "telephone     2860\n",
              "Name: call_type, dtype: int64"
            ]
          },
          "metadata": {},
          "execution_count": 43
        }
      ],
      "source": [
        "#unique value and their counts in calltype\n",
        "cus_df['call_type'].value_counts()"
      ]
    },
    {
      "cell_type": "code",
      "execution_count": null,
      "metadata": {
        "colab": {
          "base_uri": "https://localhost:8080/"
        },
        "id": "1xH5wMa-GmJG",
        "outputId": "7325ae97-af92-4446-9f39-8323c2de6ae7"
      },
      "outputs": [
        {
          "output_type": "stream",
          "name": "stdout",
          "text": [
            "The percentage of unknown data is: 28.732996415611016\n"
          ]
        }
      ],
      "source": [
        "print(\"The percentage of unknown data is:\", ((cus_df['call_type']=='unknown').sum()/cus_df.shape[0])*100)"
      ]
    },
    {
      "cell_type": "markdown",
      "source": [
        "Considering the unknown as separate category because percentage of unknown is more so neither imputing with mode nor deleting"
      ],
      "metadata": {
        "id": "0BBlB0QQ-mtg"
      }
    },
    {
      "cell_type": "markdown",
      "metadata": {
        "id": "TMSAsO2zH4TT"
      },
      "source": [
        " **Day** -- Column"
      ]
    },
    {
      "cell_type": "code",
      "execution_count": null,
      "metadata": {
        "colab": {
          "base_uri": "https://localhost:8080/"
        },
        "id": "itIQ6k3LGmMq",
        "outputId": "dfd7d48b-2b3d-47be-ca24-f8c57e0b5fbb"
      },
      "outputs": [
        {
          "output_type": "execute_result",
          "data": {
            "text/plain": [
              "0"
            ]
          },
          "metadata": {},
          "execution_count": 45
        }
      ],
      "source": [
        "#checking the null Values\n",
        "cus_df.age.isnull().sum()"
      ]
    },
    {
      "cell_type": "markdown",
      "metadata": {
        "id": "j80wY2N5LZu6"
      },
      "source": [
        "**Month** --Column"
      ]
    },
    {
      "cell_type": "code",
      "execution_count": null,
      "metadata": {
        "colab": {
          "base_uri": "https://localhost:8080/"
        },
        "id": "E3xf97sh8zYf",
        "outputId": "a51fcbd3-7a72-4d4e-92b1-3354d5707c1e"
      },
      "outputs": [
        {
          "output_type": "execute_result",
          "data": {
            "text/plain": [
              "0"
            ]
          },
          "metadata": {},
          "execution_count": 46
        }
      ],
      "source": [
        "#checking the null Values\n",
        "cus_df.mon.isnull().sum()"
      ]
    },
    {
      "cell_type": "code",
      "execution_count": null,
      "metadata": {
        "colab": {
          "base_uri": "https://localhost:8080/"
        },
        "id": "oHmpfcDuGmbn",
        "outputId": "e56a2623-677e-41f2-8972-9d95fc16e93f"
      },
      "outputs": [
        {
          "output_type": "execute_result",
          "data": {
            "text/plain": [
              "may    13734\n",
              "jul     6863\n",
              "aug     6182\n",
              "jun     5249\n",
              "nov     3956\n",
              "apr     2925\n",
              "feb     2636\n",
              "jan     1388\n",
              "oct      727\n",
              "sep      570\n",
              "mar      474\n",
              "dec      213\n",
              "Name: mon, dtype: int64"
            ]
          },
          "metadata": {},
          "execution_count": 47
        }
      ],
      "source": [
        "#unique value and their counts in calltype\n",
        "cus_df['mon'].value_counts()"
      ]
    },
    {
      "cell_type": "code",
      "source": [
        "cus_df.groupby('mon')['target'].mean()"
      ],
      "metadata": {
        "colab": {
          "base_uri": "https://localhost:8080/"
        },
        "id": "Ai0wLhXaGMe6",
        "outputId": "acac901d-9a28-43ef-db97-50d6a267e726"
      },
      "execution_count": null,
      "outputs": [
        {
          "output_type": "execute_result",
          "data": {
            "text/plain": [
              "mon\n",
              "apr    0.195214\n",
              "aug    0.110482\n",
              "dec    0.469484\n",
              "feb    0.165781\n",
              "jan    0.100144\n",
              "jul    0.091214\n",
              "jun    0.103829\n",
              "mar    0.521097\n",
              "may    0.067133\n",
              "nov    0.101365\n",
              "oct    0.437414\n",
              "sep    0.466667\n",
              "Name: target, dtype: float64"
            ]
          },
          "metadata": {},
          "execution_count": 48
        }
      ]
    },
    {
      "cell_type": "markdown",
      "source": [
        "**Even the number of calls in December, March, October month is less but the conversion rate is around 50% compared to May and july months where number of calls is 40% percent of data but the coversion rate is low which is less than 10%**"
      ],
      "metadata": {
        "id": "KbfYdSfHGSX8"
      }
    },
    {
      "cell_type": "markdown",
      "metadata": {
        "id": "CvHgCGYkLk3K"
      },
      "source": [
        "**Duration** -- Column"
      ]
    },
    {
      "cell_type": "code",
      "execution_count": null,
      "metadata": {
        "colab": {
          "base_uri": "https://localhost:8080/"
        },
        "id": "iWtWOj0v9QiO",
        "outputId": "e0174f0f-4399-45e3-c546-353a89197d9a"
      },
      "outputs": [
        {
          "output_type": "execute_result",
          "data": {
            "text/plain": [
              "0"
            ]
          },
          "metadata": {},
          "execution_count": 49
        }
      ],
      "source": [
        "#checking the null Values\n",
        "cus_df.dur.isnull().sum()"
      ]
    },
    {
      "cell_type": "code",
      "execution_count": null,
      "metadata": {
        "colab": {
          "base_uri": "https://localhost:8080/"
        },
        "id": "TSMSKdJeLinb",
        "outputId": "63a99285-5986-474b-a1e5-96cd022cd2f4"
      },
      "outputs": [
        {
          "output_type": "stream",
          "name": "stdout",
          "text": [
            "Minimum duration of call is: 0 sec\n",
            "Maximum duration of call is: 4918 sec\n"
          ]
        }
      ],
      "source": [
        "print(\"Minimum duration of call is:\",(cus_df['dur']).min(),\"sec\")\n",
        "print(\"Maximum duration of call is:\",(cus_df['dur']).max(),\"sec\")"
      ]
    },
    {
      "cell_type": "code",
      "source": [
        "detect_outliers(cus_df, 'dur')"
      ],
      "metadata": {
        "colab": {
          "base_uri": "https://localhost:8080/"
        },
        "id": "4Uszxonq_khZ",
        "outputId": "4aea584e-cc28-4963-e35f-1f103b1270ff"
      },
      "execution_count": null,
      "outputs": [
        {
          "output_type": "stream",
          "name": "stdout",
          "text": [
            "LowerFence: -221.0, UpperFence: 643.0\n",
            "3217 Outliers present in dur\n"
          ]
        }
      ]
    },
    {
      "cell_type": "code",
      "execution_count": null,
      "metadata": {
        "colab": {
          "base_uri": "https://localhost:8080/",
          "height": 312
        },
        "id": "UR1WP2Xv9KAf",
        "outputId": "f63737d6-61e5-4f48-c0f5-a1b670de0115"
      },
      "outputs": [
        {
          "output_type": "execute_result",
          "data": {
            "text/plain": [
              "Text(0.5, 1.0, 'checking outliers in Duration')"
            ]
          },
          "metadata": {},
          "execution_count": 52
        },
        {
          "output_type": "display_data",
          "data": {
            "text/plain": [
              "<Figure size 432x288 with 1 Axes>"
            ],
            "image/png": "[encoded data removed]"
          },
          "metadata": {
            "needs_background": "light"
          }
        }
      ],
      "source": [
        "#checking outliers in duration column\n",
        "sns.boxplot('dur',data=cus_df)\n",
        "plt.title(\"checking outliers in Duration\")"
      ]
    },
    {
      "cell_type": "code",
      "execution_count": null,
      "metadata": {
        "colab": {
          "base_uri": "https://localhost:8080/"
        },
        "id": "jLSDF67eGmg-",
        "outputId": "8d9c2d11-2c1c-4d2f-cf61-ad2dce384f94"
      },
      "outputs": [
        {
          "output_type": "execute_result",
          "data": {
            "text/plain": [
              "count    44917.000000\n",
              "mean       258.314959\n",
              "std        257.724537\n",
              "min          0.000000\n",
              "25%        103.000000\n",
              "50%        180.000000\n",
              "75%        319.000000\n",
              "max       4918.000000\n",
              "Name: dur, dtype: float64"
            ]
          },
          "metadata": {},
          "execution_count": 53
        }
      ],
      "source": [
        "cus_df.dur.describe()"
      ]
    },
    {
      "cell_type": "markdown",
      "metadata": {
        "id": "mKFhZesgNL68"
      },
      "source": [
        "There are many outliers, so going to clipping the outliers "
      ]
    },
    {
      "cell_type": "code",
      "source": [
        "clip_outliers(cus_df,'dur')"
      ],
      "metadata": {
        "id": "gZnkm1vX_yIS"
      },
      "execution_count": null,
      "outputs": []
    },
    {
      "cell_type": "code",
      "source": [
        "#checking outliers in duration column after clipping outliers\n",
        "sns.boxplot('dur',data=cus_df)\n",
        "plt.title(\"checking outliers in Duration after clipping\")"
      ],
      "metadata": {
        "colab": {
          "base_uri": "https://localhost:8080/",
          "height": 312
        },
        "id": "U7OVtPUj_5xC",
        "outputId": "d4d74d01-f7e0-4a69-c1f1-b32568826b3c"
      },
      "execution_count": null,
      "outputs": [
        {
          "output_type": "execute_result",
          "data": {
            "text/plain": [
              "Text(0.5, 1.0, 'checking outliers in Duration after clipping')"
            ]
          },
          "metadata": {},
          "execution_count": 55
        },
        {
          "output_type": "display_data",
          "data": {
            "text/plain": [
              "<Figure size 432x288 with 1 Axes>"
            ],
            "image/png": "[encoded data removed]"
          },
          "metadata": {
            "needs_background": "light"
          }
        }
      ]
    },
    {
      "cell_type": "markdown",
      "metadata": {
        "id": "3BosSyJmNlNj"
      },
      "source": [
        "**Number_calls** -- Column"
      ]
    },
    {
      "cell_type": "code",
      "execution_count": null,
      "metadata": {
        "colab": {
          "base_uri": "https://localhost:8080/"
        },
        "id": "k8iyMPZgL6Jy",
        "outputId": "57920478-99ae-4a63-dc46-0ec131c1a78f"
      },
      "outputs": [
        {
          "output_type": "execute_result",
          "data": {
            "text/plain": [
              "0"
            ]
          },
          "metadata": {},
          "execution_count": 56
        }
      ],
      "source": [
        "#checking the null Values\n",
        "cus_df['num_calls'].isnull().sum()"
      ]
    },
    {
      "cell_type": "code",
      "execution_count": null,
      "metadata": {
        "colab": {
          "base_uri": "https://localhost:8080/"
        },
        "id": "QImr2R98NtX7",
        "outputId": "1833164c-5cb7-4a3f-d4a3-17318426a7d8"
      },
      "outputs": [
        {
          "output_type": "execute_result",
          "data": {
            "text/plain": [
              "array([ 1,  2,  3,  5,  4,  6,  7,  8,  9, 10, 11, 12, 13, 19, 14, 24, 16,\n",
              "       32, 18, 22, 15, 17, 25, 21, 43, 51, 63, 41, 26, 28, 55, 50, 38, 23,\n",
              "       20, 29, 31, 37, 30, 46, 27, 58, 33, 35, 34, 36, 39, 44])"
            ]
          },
          "metadata": {},
          "execution_count": 57
        }
      ],
      "source": [
        "#Checking unique values\n",
        "cus_df['num_calls'].unique()"
      ]
    },
    {
      "cell_type": "code",
      "execution_count": null,
      "metadata": {
        "colab": {
          "base_uri": "https://localhost:8080/"
        },
        "id": "0QsRp92sN06L",
        "outputId": "d650f96b-ca3a-4093-eb43-d7162e242bba"
      },
      "outputs": [
        {
          "output_type": "execute_result",
          "data": {
            "text/plain": [
              "count    44917.000000\n",
              "mean         2.760403\n",
              "std          3.093007\n",
              "min          1.000000\n",
              "25%          1.000000\n",
              "50%          2.000000\n",
              "75%          3.000000\n",
              "max         63.000000\n",
              "Name: num_calls, dtype: float64"
            ]
          },
          "metadata": {},
          "execution_count": 58
        }
      ],
      "source": [
        "#Statistical information of num_calls\n",
        "cus_df.num_calls.describe()"
      ]
    },
    {
      "cell_type": "markdown",
      "source": [
        "From the above data 75% of data have below 3 number of calls. Above 30 number of calls are not possible in real world seen to be those are outliers"
      ],
      "metadata": {
        "id": "artE3m0_JmbU"
      }
    },
    {
      "cell_type": "code",
      "source": [
        "#detecting outliers of num_calls column\n",
        "detect_outliers(cus_df, 'num_calls')"
      ],
      "metadata": {
        "colab": {
          "base_uri": "https://localhost:8080/"
        },
        "id": "_EaKpwBqAO5g",
        "outputId": "63019226-24f7-47d3-c010-13fe71b8a19d"
      },
      "execution_count": null,
      "outputs": [
        {
          "output_type": "stream",
          "name": "stdout",
          "text": [
            "LowerFence: -2.0, UpperFence: 6.0\n",
            "3031 Outliers present in num_calls\n"
          ]
        }
      ]
    },
    {
      "cell_type": "code",
      "source": [
        "#checking outliers in day column\n",
        "sns.boxplot('num_calls',data=cus_df)\n",
        "plt.title(\"checking outliers in Number of calls\")"
      ],
      "metadata": {
        "colab": {
          "base_uri": "https://localhost:8080/",
          "height": 313
        },
        "id": "GI8f-UPIAjrH",
        "outputId": "38a6d56b-a006-416f-b960-557e8ba17cba"
      },
      "execution_count": null,
      "outputs": [
        {
          "output_type": "execute_result",
          "data": {
            "text/plain": [
              "Text(0.5, 1.0, 'checking outliers in Number of calls')"
            ]
          },
          "metadata": {},
          "execution_count": 60
        },
        {
          "output_type": "display_data",
          "data": {
            "text/plain": [
              "<Figure size 432x288 with 1 Axes>"
            ],
            "image/png": "[encoded data removed]"
          },
          "metadata": {
            "needs_background": "light"
          }
        }
      ]
    },
    {
      "cell_type": "code",
      "source": [
        "#clipping outliers\n",
        "clip_outliers(cus_df,'num_calls')"
      ],
      "metadata": {
        "id": "z8RiJPc6Ac5W"
      },
      "execution_count": null,
      "outputs": []
    },
    {
      "cell_type": "code",
      "source": [
        "#checking outliers in Number of calls column after clipping outliers\n",
        "sns.boxplot('num_calls',data=cus_df)\n",
        "plt.title(\"checking outliers in Number of calls  after clipping\")"
      ],
      "metadata": {
        "colab": {
          "base_uri": "https://localhost:8080/",
          "height": 313
        },
        "id": "rS3FGTpNAupE",
        "outputId": "31e96972-8fe0-4dd5-824f-0ebf615c866a"
      },
      "execution_count": null,
      "outputs": [
        {
          "output_type": "execute_result",
          "data": {
            "text/plain": [
              "Text(0.5, 1.0, 'checking outliers in Number of calls  after clipping')"
            ]
          },
          "metadata": {},
          "execution_count": 62
        },
        {
          "output_type": "display_data",
          "data": {
            "text/plain": [
              "<Figure size 432x288 with 1 Axes>"
            ],
            "image/png": "[encoded data removed]"
          },
          "metadata": {
            "needs_background": "light"
          }
        }
      ]
    },
    {
      "cell_type": "markdown",
      "metadata": {
        "id": "lKOyRxIJSkU6"
      },
      "source": [
        "**Prev_outcome** -- Column"
      ]
    },
    {
      "cell_type": "code",
      "execution_count": null,
      "metadata": {
        "colab": {
          "base_uri": "https://localhost:8080/"
        },
        "id": "CfLj-ZRmR-mS",
        "outputId": "1ccc0972-f9e9-40fc-c6d7-37e5449a8f52"
      },
      "outputs": [
        {
          "output_type": "execute_result",
          "data": {
            "text/plain": [
              "0"
            ]
          },
          "metadata": {},
          "execution_count": 63
        }
      ],
      "source": [
        "#checking the null Values\n",
        "cus_df['prev_outcome'].isnull().sum()"
      ]
    },
    {
      "cell_type": "code",
      "execution_count": null,
      "metadata": {
        "colab": {
          "base_uri": "https://localhost:8080/"
        },
        "id": "V9_ijeX0SpXq",
        "outputId": "d4aa4839-f08d-45af-ec78-160740aa7a31"
      },
      "outputs": [
        {
          "output_type": "execute_result",
          "data": {
            "text/plain": [
              "unknown    36698\n",
              "failure     4881\n",
              "other       1838\n",
              "success     1500\n",
              "Name: prev_outcome, dtype: int64"
            ]
          },
          "metadata": {},
          "execution_count": 64
        }
      ],
      "source": [
        "#checking the unique values and their counts\n",
        "cus_df['prev_outcome'].value_counts()"
      ]
    },
    {
      "cell_type": "code",
      "execution_count": null,
      "metadata": {
        "colab": {
          "base_uri": "https://localhost:8080/"
        },
        "id": "rukHlq-OStkz",
        "outputId": "5ea43b47-7af4-461e-9253-a7b4be574574"
      },
      "outputs": [
        {
          "output_type": "stream",
          "name": "stdout",
          "text": [
            "The percentage of unknown data is: 81.70180555246344\n"
          ]
        }
      ],
      "source": [
        "print(\"The percentage of unknown data is:\", ((cus_df['prev_outcome']=='unknown').sum()/cus_df.shape[0])*100)"
      ]
    },
    {
      "cell_type": "code",
      "source": [
        "cus_df['target'] = cus_df['y'].map({\"yes\":1,\"no\":0})"
      ],
      "metadata": {
        "id": "0_PJicYEFDLN"
      },
      "execution_count": null,
      "outputs": []
    },
    {
      "cell_type": "code",
      "source": [
        "cus_df.groupby('prev_outcome')['target'].mean()"
      ],
      "metadata": {
        "colab": {
          "base_uri": "https://localhost:8080/"
        },
        "id": "b6YKpdTHFXwq",
        "outputId": "c1f58697-c7c5-42d3-ebbb-f982404242a2"
      },
      "execution_count": null,
      "outputs": [
        {
          "output_type": "execute_result",
          "data": {
            "text/plain": [
              "prev_outcome\n",
              "failure    0.125384\n",
              "other      0.166485\n",
              "success    0.646000\n",
              "unknown    0.091776\n",
              "Name: target, dtype: float64"
            ]
          },
          "metadata": {},
          "execution_count": 67
        }
      ]
    },
    {
      "cell_type": "markdown",
      "source": [
        "**whenver `previous outcome is success` there is a 64% chance of customers bought the insurance **"
      ],
      "metadata": {
        "id": "ZUrdJC8pFqLJ"
      }
    },
    {
      "cell_type": "code",
      "execution_count": null,
      "metadata": {
        "colab": {
          "base_uri": "https://localhost:8080/"
        },
        "id": "h-3GXHbHTBJj",
        "outputId": "eed02ba2-fff6-47da-c7de-5e98aa3d077e"
      },
      "outputs": [
        {
          "output_type": "execute_result",
          "data": {
            "text/plain": [
              "Index(['age', 'job', 'marital', 'education_qual', 'call_type', 'day', 'mon',\n",
              "       'dur', 'num_calls', 'prev_outcome', 'y', 'target'],\n",
              "      dtype='object')"
            ]
          },
          "metadata": {},
          "execution_count": 68
        }
      ],
      "source": [
        "#column list after droping prev_outcome column\n",
        "cus_df.columns"
      ]
    },
    {
      "cell_type": "markdown",
      "metadata": {
        "id": "w1HKSPheTHW-"
      },
      "source": [
        "# **EXPLORATORY DATA ANALYSIS**"
      ]
    },
    {
      "cell_type": "code",
      "execution_count": null,
      "metadata": {
        "id": "FiO3pUT_orCs"
      },
      "outputs": [],
      "source": [
        "cus_df_yes = cus_df[cus_df['y'] == 'yes']\n",
        "cus_df_no = cus_df[cus_df['y'] == 'no']"
      ]
    },
    {
      "cell_type": "code",
      "execution_count": null,
      "metadata": {
        "id": "0m9tPahSpsZT"
      },
      "outputs": [],
      "source": [
        "#function to visualize the categorical columns\n",
        "def feature_vs_target(dataframe, feature, target):\n",
        "  \n",
        "  plt.figure(figsize=(16,6))\n",
        "  \n",
        "  plt.subplot(121)\n",
        "  sns.set_theme(style=\"darkgrid\",palette=\"bright\")\n",
        "  sns.countplot(x=feature, hue=target, data=cus_df, order=cus_df[feature].value_counts().index)\n",
        "  plt.title(feature + \" vs \" + target,fontsize = 20)\n",
        "  plt.xticks(rotation=60)\n",
        "  \n",
        "  plt.subplot(122)  \n",
        "  sns.countplot(x=feature, data=cus_df_yes, order=cus_df_yes[feature].value_counts().index)\n",
        "  plt.title(feature + \" vs who take insurance\",fontsize = 20)\n",
        "  plt.xticks(rotation=60)\n",
        "  plt.tight_layout()\n",
        "  plt.show()"
      ]
    },
    {
      "cell_type": "code",
      "execution_count": null,
      "metadata": {
        "colab": {
          "base_uri": "https://localhost:8080/",
          "height": 376
        },
        "id": "CdU3xIP6qSMo",
        "outputId": "0c67ec58-2baf-4753-c9cc-16da99f50a93"
      },
      "outputs": [
        {
          "output_type": "display_data",
          "data": {
            "text/plain": [
              "<Figure size 1152x432 with 2 Axes>"
            ],
            "image/png": "[encoded data removed]"
          },
          "metadata": {
            "needs_background": "light"
          }
        }
      ],
      "source": [
        "#visualization for Job column\n",
        "feature_vs_target(cus_df,'job','y')"
      ]
    },
    {
      "cell_type": "code",
      "source": [
        "plt.figure(figsize=(16,6))\n",
        "(cus_df.groupby('job')['target'].mean()*100).sort_values().plot(kind = 'barh')\n",
        "plt.show()"
      ],
      "metadata": {
        "colab": {
          "base_uri": "https://localhost:8080/",
          "height": 363
        },
        "id": "t4EgAUSZKmM5",
        "outputId": "54ad8925-7d58-45fc-f103-a3248027be8e"
      },
      "execution_count": null,
      "outputs": [
        {
          "output_type": "display_data",
          "data": {
            "text/plain": [
              "<Figure size 1152x432 with 1 Axes>"
            ],
            "image/png": "[encoded data removed]"
          },
          "metadata": {}
        }
      ]
    },
    {
      "cell_type": "markdown",
      "metadata": {
        "id": "CkczaaMbrHkA"
      },
      "source": [
        "**Interpretation of Job plots** \n",
        "1. Management people takes insurance compared to other professions\n",
        "2. Conversion rate is higher in students and retired category is better comapred to other category.Targetting those kind of category people helps to get more subscription"
      ]
    },
    {
      "cell_type": "code",
      "execution_count": null,
      "metadata": {
        "colab": {
          "base_uri": "https://localhost:8080/",
          "height": 376
        },
        "id": "1WanZNp5qStq",
        "outputId": "df6d3532-93b2-4e43-f1bc-d3409d112a74"
      },
      "outputs": [
        {
          "output_type": "display_data",
          "data": {
            "text/plain": [
              "<Figure size 1152x432 with 2 Axes>"
            ],
            "image/png": "[encoded data removed]"
          },
          "metadata": {}
        }
      ],
      "source": [
        "#visualization for Marital column\n",
        "feature_vs_target(cus_df,'marital','y')"
      ]
    },
    {
      "cell_type": "code",
      "source": [
        "plt.figure(figsize=(8,5))\n",
        "(cus_df.groupby('marital')['target'].mean()*100).sort_values().plot(kind = 'barh')\n",
        "plt.show()"
      ],
      "metadata": {
        "colab": {
          "base_uri": "https://localhost:8080/",
          "height": 322
        },
        "id": "Zm9BlO58MLso",
        "outputId": "b983c5b4-ce91-4a0b-ac62-1a90a7da96b6"
      },
      "execution_count": null,
      "outputs": [
        {
          "output_type": "display_data",
          "data": {
            "text/plain": [
              "<Figure size 576x360 with 1 Axes>"
            ],
            "image/png": "[encoded data removed]"
          },
          "metadata": {}
        }
      ]
    },
    {
      "cell_type": "markdown",
      "metadata": {
        "id": "zexmfGUKsM7L"
      },
      "source": [
        "**Interpretation of Marital plot** \n",
        "1. Married people taking insurance compared to single and divorced persons but the conversion rate is higher in single people(Reason-people in younger age purchase insurance may be because of low premium)compared to married and divorced people\n"
      ]
    },
    {
      "cell_type": "code",
      "execution_count": null,
      "metadata": {
        "colab": {
          "base_uri": "https://localhost:8080/",
          "height": 376
        },
        "id": "bIKx7mJZr1qy",
        "outputId": "867a9cb1-72db-4c11-97b6-1d081d5b2b7d"
      },
      "outputs": [
        {
          "output_type": "display_data",
          "data": {
            "text/plain": [
              "<Figure size 1152x432 with 2 Axes>"
            ],
            "image/png": "[encoded data removed]"
          },
          "metadata": {}
        }
      ],
      "source": [
        "#visualization for Education Qualification column\n",
        "feature_vs_target(cus_df,'education_qual','y')"
      ]
    },
    {
      "cell_type": "code",
      "source": [
        "plt.figure(figsize=(8,5))\n",
        "(cus_df.groupby('education_qual')['target'].mean()*100).sort_values().plot(kind = 'barh')\n",
        "plt.show()"
      ],
      "metadata": {
        "colab": {
          "base_uri": "https://localhost:8080/",
          "height": 322
        },
        "id": "at5qqnckNTRs",
        "outputId": "feac8059-7411-416b-ef87-7bf68e3cf961"
      },
      "execution_count": null,
      "outputs": [
        {
          "output_type": "display_data",
          "data": {
            "text/plain": [
              "<Figure size 576x360 with 1 Axes>"
            ],
            "image/png": "[encoded data removed]"
          },
          "metadata": {}
        }
      ]
    },
    {
      "cell_type": "markdown",
      "metadata": {
        "id": "qVijM-76tWoT"
      },
      "source": [
        "**Interpretation of Eduation Qualification plot** \n",
        "\n",
        "1. People who undergone seconday and tertiary education ie.12th class and above (college) have knowledge about insurance subscribed more "
      ]
    },
    {
      "cell_type": "code",
      "execution_count": null,
      "metadata": {
        "colab": {
          "base_uri": "https://localhost:8080/",
          "height": 376
        },
        "id": "HyMbjufBt2B3",
        "outputId": "f26e3fa3-3e6b-4b02-af9c-9791d0038f7d"
      },
      "outputs": [
        {
          "output_type": "display_data",
          "data": {
            "text/plain": [
              "<Figure size 1152x432 with 2 Axes>"
            ],
            "image/png": "[encoded data removed]"
          },
          "metadata": {}
        }
      ],
      "source": [
        "#visualization for Month column\n",
        "feature_vs_target(cus_df,'mon','y')"
      ]
    },
    {
      "cell_type": "code",
      "source": [
        "plt.figure(figsize=(8,5))\n",
        "(cus_df.groupby('mon')['target'].mean()*100).sort_values().plot(kind = 'barh')\n",
        "plt.show()"
      ],
      "metadata": {
        "colab": {
          "base_uri": "https://localhost:8080/",
          "height": 322
        },
        "id": "G1aKsY0tNwAw",
        "outputId": "e568d6ff-59e0-4d1e-862d-9fe214ae2ea3"
      },
      "execution_count": null,
      "outputs": [
        {
          "output_type": "display_data",
          "data": {
            "text/plain": [
              "<Figure size 576x360 with 1 Axes>"
            ],
            "image/png": "[encoded data removed]"
          },
          "metadata": {}
        }
      ]
    },
    {
      "cell_type": "markdown",
      "metadata": {
        "id": "u1xJOV99uBz3"
      },
      "source": [
        "**Interpretation of Month plot** \n",
        "1. people take more insurance in the month of may but conversion rate of march, december and september is high which is around 50%\n"
      ]
    },
    {
      "cell_type": "code",
      "source": [
        "#visualization for previous outcome column\n",
        "feature_vs_target(cus_df,'prev_outcome','y')"
      ],
      "metadata": {
        "colab": {
          "base_uri": "https://localhost:8080/",
          "height": 376
        },
        "id": "jJQbkwnUQNm_",
        "outputId": "fc497062-78ac-4346-ff82-287d43e631ad"
      },
      "execution_count": null,
      "outputs": [
        {
          "output_type": "display_data",
          "data": {
            "text/plain": [
              "<Figure size 1152x432 with 2 Axes>"
            ],
            "image/png": "[encoded data removed]"
          },
          "metadata": {}
        }
      ]
    },
    {
      "cell_type": "code",
      "source": [
        "plt.figure(figsize=(8,5))\n",
        "(cus_df.groupby('prev_outcome')['target'].mean()*100).sort_values().plot(kind = 'barh')\n",
        "plt.show()"
      ],
      "metadata": {
        "colab": {
          "base_uri": "https://localhost:8080/",
          "height": 322
        },
        "id": "5etvnIpxT_09",
        "outputId": "bec7da2d-301c-4cea-8647-a73005da2d2f"
      },
      "execution_count": null,
      "outputs": [
        {
          "output_type": "display_data",
          "data": {
            "text/plain": [
              "<Figure size 576x360 with 1 Axes>"
            ],
            "image/png": "[encoded data removed]"
          },
          "metadata": {}
        }
      ]
    },
    {
      "cell_type": "markdown",
      "source": [
        "\n",
        "\n",
        "*   If the previous outcome is success then that person is more likely to purchase insurance beacuse the conversion rate is above 60% \n",
        "\n",
        "\n"
      ],
      "metadata": {
        "id": "F5zZfTVlUKJg"
      }
    },
    {
      "cell_type": "code",
      "source": [
        "#visualization for call type column\n",
        "feature_vs_target(cus_df,'prev_outcome','y')"
      ],
      "metadata": {
        "colab": {
          "base_uri": "https://localhost:8080/",
          "height": 376
        },
        "id": "q0TFXrNBel8K",
        "outputId": "c4b86526-42e2-4ecb-8b28-6b780ceb005a"
      },
      "execution_count": null,
      "outputs": [
        {
          "output_type": "display_data",
          "data": {
            "text/plain": [
              "<Figure size 1152x432 with 2 Axes>"
            ],
            "image/png": "[encoded data removed]"
          },
          "metadata": {}
        }
      ]
    },
    {
      "cell_type": "code",
      "source": [
        "plt.figure(figsize=(8,5))\n",
        "(cus_df.groupby('call_type')['target'].mean()*100).sort_values().plot(kind = 'barh')\n",
        "plt.show()"
      ],
      "metadata": {
        "colab": {
          "base_uri": "https://localhost:8080/",
          "height": 322
        },
        "id": "dzHQKOQKehyj",
        "outputId": "37ac4544-e615-408e-96e0-7629b50cf642"
      },
      "execution_count": null,
      "outputs": [
        {
          "output_type": "display_data",
          "data": {
            "text/plain": [
              "<Figure size 576x360 with 1 Axes>"
            ],
            "image/png": "[encoded data removed]"
          },
          "metadata": {}
        }
      ]
    },
    {
      "cell_type": "code",
      "execution_count": null,
      "metadata": {
        "colab": {
          "base_uri": "https://localhost:8080/",
          "height": 440
        },
        "id": "UNuQxsYl-HuW",
        "outputId": "06c34cb4-6f5b-4904-bc69-bb6e739f723c"
      },
      "outputs": [
        {
          "output_type": "execute_result",
          "data": {
            "text/plain": [
              "Text(0, 0.5, 'Count')"
            ]
          },
          "metadata": {},
          "execution_count": 83
        },
        {
          "output_type": "display_data",
          "data": {
            "text/plain": [
              "<Figure size 1152x432 with 2 Axes>"
            ],
            "image/png": "[encoded data removed]"
          },
          "metadata": {}
        }
      ],
      "source": [
        "#Visualization of Numerical Columns\n",
        "plt.figure(figsize=(16,6))\n",
        "plt.subplot(1,2,1)\n",
        "sns.histplot(cus_df['day']) \n",
        "sns.set_theme(style=\"darkgrid\",palette=\"bright\")\n",
        "plt.title('Day Distribution', fontsize = 20) \n",
        "plt.xlabel('Day ',fontsize = 16) \n",
        "plt.xticks(rotation = 60,fontsize = 10) \n",
        "plt.ylabel('Count',fontsize = 16)\n",
        "\n",
        "plt.subplot(1,2,2)\n",
        "sns.histplot(cus_df['age']) \n",
        "sns.set_theme(style=\"darkgrid\",palette=\"bright\")\n",
        "plt.title('Age Distribution', fontsize = 20) \n",
        "plt.xlabel('Age ',fontsize = 16) \n",
        "plt.xticks(rotation = 60,fontsize = 10) \n",
        "plt.ylabel('Count',fontsize = 16)"
      ]
    },
    {
      "cell_type": "code",
      "source": [
        "plt.figure(figsize=(16,6))\n",
        "plt.subplot(1,2,1)\n",
        "sns.boxplot(data = cus_df,x='y',y='age')\n",
        "plt.title('Age vs Target(y)', fontsize = 20) \n",
        "plt.subplot(1,2,2)\n",
        "sns.boxplot(data = cus_df,x='y',y='day')\n",
        "plt.title('Day vs Target(y)', fontsize = 20) "
      ],
      "metadata": {
        "colab": {
          "base_uri": "https://localhost:8080/",
          "height": 432
        },
        "id": "bkZHklPfU1Hk",
        "outputId": "bba8d376-478f-4572-a970-bc0490373b99"
      },
      "execution_count": null,
      "outputs": [
        {
          "output_type": "execute_result",
          "data": {
            "text/plain": [
              "Text(0.5, 1.0, 'Day vs Target(y)')"
            ]
          },
          "metadata": {},
          "execution_count": 84
        },
        {
          "output_type": "display_data",
          "data": {
            "text/plain": [
              "<Figure size 1152x432 with 2 Axes>"
            ],
            "image/png": "[encoded data removed]"
          },
          "metadata": {}
        }
      ]
    },
    {
      "cell_type": "code",
      "source": [
        "plt.figure(figsize=(10,10))\n",
        "(cus_df.groupby('age')['target'].mean()*100).sort_values().plot(kind = 'barh')\n",
        "plt.show()"
      ],
      "metadata": {
        "colab": {
          "base_uri": "https://localhost:8080/",
          "height": 594
        },
        "id": "L2N7uY5HWin9",
        "outputId": "556d6c95-115c-4252-abec-a0f4d52f62c9"
      },
      "execution_count": null,
      "outputs": [
        {
          "output_type": "display_data",
          "data": {
            "text/plain": [
              "<Figure size 720x720 with 1 Axes>"
            ],
            "image/png": "[encoded data removed]"
          },
          "metadata": {}
        }
      ]
    },
    {
      "cell_type": "markdown",
      "source": [
        "**Interpretation of Age plot**  - People who are in age above 60 have conversion rate of 50% and people in 20's also interested in   taking insurance"
      ],
      "metadata": {
        "id": "rIuAbAI5X8l6"
      }
    },
    {
      "cell_type": "code",
      "execution_count": null,
      "metadata": {
        "colab": {
          "base_uri": "https://localhost:8080/",
          "height": 365
        },
        "id": "W3ehB5n2AbFx",
        "outputId": "6d180574-1614-4ee8-c91d-49860a2416e5"
      },
      "outputs": [
        {
          "output_type": "display_data",
          "data": {
            "text/plain": [
              "<Figure size 720x360 with 2 Axes>"
            ],
            "image/png": "[encoded data removed]"
          },
          "metadata": {}
        }
      ],
      "source": [
        "#visualizing the Call distribution and number of calls\n",
        "plt.figure(figsize=(10,5))\n",
        "plt.subplot(1,2,1)\n",
        "sns.set_theme(style=\"darkgrid\",palette=\"bright\")\n",
        "sns.histplot(cus_df['dur'],color = 'green')\n",
        "plt.title('Call duration distribution', fontsize = 20) \n",
        "plt.xlabel('call duration ',fontsize = 16) \n",
        "plt.xticks(rotation = 60,fontsize = 10) \n",
        "plt.xlim([0,1500])\n",
        "plt.ylabel('Count',fontsize = 16)\n",
        "\n",
        "plt.subplot(1,2,2)\n",
        "\n",
        "sns.distplot(cus_df['num_calls'],color = 'blue')\n",
        "plt.title('Number of calls', fontsize = 20) \n",
        "plt.xlabel('Number of calls ',fontsize = 16) \n",
        "plt.xticks(rotation = 60,fontsize = 10) \n",
        "plt.xlim([0,10])\n",
        "plt.ylabel('Count',fontsize = 16)\n",
        "plt.tight_layout()\n",
        "plt.show()"
      ]
    },
    {
      "cell_type": "code",
      "source": [
        "plt.figure(figsize=(16,6))\n",
        "plt.subplot(1,2,1)\n",
        "sns.boxplot(data = cus_df,x='y',y='dur')\n",
        "plt.title('Age vs Target(y)', fontsize = 20) \n",
        "plt.subplot(1,2,2)\n",
        "sns.boxplot(data = cus_df,x='y',y='num_calls')\n",
        "plt.title('Day vs Target(y)', fontsize = 20) "
      ],
      "metadata": {
        "colab": {
          "base_uri": "https://localhost:8080/",
          "height": 432
        },
        "id": "rog6g0PDYpg8",
        "outputId": "0a294b04-601f-4581-a85d-a6021d2726d5"
      },
      "execution_count": null,
      "outputs": [
        {
          "output_type": "execute_result",
          "data": {
            "text/plain": [
              "Text(0.5, 1.0, 'Day vs Target(y)')"
            ]
          },
          "metadata": {},
          "execution_count": 87
        },
        {
          "output_type": "display_data",
          "data": {
            "text/plain": [
              "<Figure size 1152x432 with 2 Axes>"
            ],
            "image/png": "[encoded data removed]"
          },
          "metadata": {}
        }
      ]
    },
    {
      "cell_type": "markdown",
      "source": [
        "**Interpretation of call duration plot**  - More the duration more purchase of insurance.It is easy to convience if we talk to customer more"
      ],
      "metadata": {
        "id": "X5_qKk1JX7bO"
      }
    },
    {
      "cell_type": "code",
      "execution_count": null,
      "metadata": {
        "id": "Bstk51aDR-1_"
      },
      "outputs": [],
      "source": [
        "cus_df.to_csv('customer_conversion_final.csv')"
      ]
    },
    {
      "cell_type": "markdown",
      "metadata": {
        "id": "WzY6doqcJCoG"
      },
      "source": [
        "# **Label Encodeing**"
      ]
    },
    {
      "cell_type": "markdown",
      "source": [
        "Encoded in the order category have higher convesrion rate"
      ],
      "metadata": {
        "id": "iddHfEp7cnxN"
      }
    },
    {
      "cell_type": "code",
      "source": [
        "cus_df.columns"
      ],
      "metadata": {
        "colab": {
          "base_uri": "https://localhost:8080/"
        },
        "id": "0Gb_EUEbZXfQ",
        "outputId": "8b602400-d66c-4f05-e142-eb2f9d0119df"
      },
      "execution_count": null,
      "outputs": [
        {
          "output_type": "execute_result",
          "data": {
            "text/plain": [
              "Index(['age', 'job', 'marital', 'education_qual', 'call_type', 'day', 'mon',\n",
              "       'dur', 'num_calls', 'prev_outcome', 'y', 'target'],\n",
              "      dtype='object')"
            ]
          },
          "metadata": {},
          "execution_count": 89
        }
      ]
    },
    {
      "cell_type": "code",
      "execution_count": null,
      "metadata": {
        "colab": {
          "base_uri": "https://localhost:8080/"
        },
        "id": "SMTbWq-VH02l",
        "outputId": "c33f8d43-55ac-4d11-f4d5-54a07bd999f4"
      },
      "outputs": [
        {
          "output_type": "execute_result",
          "data": {
            "text/plain": [
              "array(['management', 'technician', 'entrepreneur', 'blue-collar',\n",
              "       'retired', 'admin', 'services', 'self-employed', 'unemployed',\n",
              "       'housemaid', 'student'], dtype=object)"
            ]
          },
          "metadata": {},
          "execution_count": 90
        }
      ],
      "source": [
        "cus_df.job.unique()"
      ]
    },
    {
      "cell_type": "code",
      "execution_count": null,
      "metadata": {
        "id": "Yy82kOwLVfIw"
      },
      "outputs": [],
      "source": [
        "#job column\n",
        "cus_df.job = cus_df.job.map({'student':10,\n",
        "                             'retired': 9,\n",
        "                             'unemployed': 8,\n",
        "                             'management': 7,\n",
        "                             'admin': 6, \n",
        "                             'self-employed': 5, \n",
        "                             'technician': 4,\n",
        "                             'services': 3,\n",
        "                             'housemaid': 2,\n",
        "                             'entrepreneur': 1, \n",
        "                             'blue-collar': 0})"
      ]
    },
    {
      "cell_type": "code",
      "execution_count": null,
      "metadata": {
        "id": "20SaLGmlKfAt"
      },
      "outputs": [],
      "source": [
        "#month column\n",
        "cus_df.mon = cus_df.mon.map({'mar': 11, \n",
        "                             'dec': 10,\n",
        "                             'sep': 9,\n",
        "                             'oct': 8,\n",
        "                             'apr': 7,\n",
        "                             'feb': 6,\n",
        "                             'aug': 5,\n",
        "                             'jun': 4,\n",
        "                             'nov': 3,\n",
        "                             'jan': 2,                                                       \n",
        "                             'jul': 1,                             \n",
        "                             'may':0})"
      ]
    },
    {
      "cell_type": "code",
      "execution_count": null,
      "metadata": {
        "id": "YN_0wT2PYoBq"
      },
      "outputs": [],
      "source": [
        "#target column\n",
        "cus_df.y = cus_df.y.map({'yes':1, 'no':0})"
      ]
    },
    {
      "cell_type": "code",
      "execution_count": null,
      "metadata": {
        "id": "EXsRXc-LYz8w"
      },
      "outputs": [],
      "source": [
        "#call type column\n",
        "cus_df.call_type =cus_df.call_type.map({'cellular':2,\n",
        "                                        'telephone':1,\n",
        "                                        'unknown':0})"
      ]
    },
    {
      "cell_type": "code",
      "execution_count": null,
      "metadata": {
        "id": "soVFRxyWF3gx"
      },
      "outputs": [],
      "source": [
        "#marital column\n",
        "cus_df.marital =cus_df.marital.map({'single':2,\n",
        "                                    'divorced':1,\n",
        "                                    'married':0})"
      ]
    },
    {
      "cell_type": "code",
      "execution_count": null,
      "metadata": {
        "id": "DdIHc-HBF3kL"
      },
      "outputs": [],
      "source": [
        "#education qualification\n",
        "cus_df.education_qual =cus_df.education_qual.map({'tertiary':3,\n",
        "                                                  'unknown':2,\n",
        "                                                  'secondary':1,\n",
        "                                                  'primary':0})"
      ]
    },
    {
      "cell_type": "code",
      "source": [
        "#previous outcome column\n",
        "cus_df.prev_outcome =cus_df.prev_outcome.map({'success':3,\n",
        "                                              'other':2,\n",
        "                                              'failure':1,\n",
        "                                              'unknown':0})"
      ],
      "metadata": {
        "id": "FLXXs-13fb3C"
      },
      "execution_count": null,
      "outputs": []
    },
    {
      "cell_type": "code",
      "execution_count": null,
      "metadata": {
        "colab": {
          "base_uri": "https://localhost:8080/"
        },
        "id": "BGdHn-o-ZWZs",
        "outputId": "82a5e0e0-eede-4b80-b22b-c257e77f768d"
      },
      "outputs": [
        {
          "output_type": "execute_result",
          "data": {
            "text/plain": [
              "Index(['age', 'job', 'marital', 'education_qual', 'call_type', 'day', 'mon',\n",
              "       'dur', 'num_calls', 'prev_outcome', 'y', 'target'],\n",
              "      dtype='object')"
            ]
          },
          "metadata": {},
          "execution_count": 98
        }
      ],
      "source": [
        "cus_df.columns"
      ]
    },
    {
      "cell_type": "code",
      "source": [
        "cus_df['marital'].unique()"
      ],
      "metadata": {
        "colab": {
          "base_uri": "https://localhost:8080/"
        },
        "id": "iolT4BZBgS_d",
        "outputId": "0466266b-c508-49c4-a711-aed360739a60"
      },
      "execution_count": null,
      "outputs": [
        {
          "output_type": "execute_result",
          "data": {
            "text/plain": [
              "array([0, 2, 1])"
            ]
          },
          "metadata": {},
          "execution_count": 99
        }
      ]
    },
    {
      "cell_type": "code",
      "source": [
        "cus_df['prev_outcome'].unique()"
      ],
      "metadata": {
        "colab": {
          "base_uri": "https://localhost:8080/"
        },
        "id": "fFWuWL8tgsgP",
        "outputId": "b81af263-6424-4236-e98d-e22b5e25faaa"
      },
      "execution_count": null,
      "outputs": [
        {
          "output_type": "execute_result",
          "data": {
            "text/plain": [
              "array([0, 1, 2, 3])"
            ]
          },
          "metadata": {},
          "execution_count": 100
        }
      ]
    },
    {
      "cell_type": "markdown",
      "metadata": {
        "id": "7DuoDBaTQRHG"
      },
      "source": [
        "# **Model Building**"
      ]
    },
    {
      "cell_type": "markdown",
      "metadata": {
        "id": "FLxzyFJUu-Z-"
      },
      "source": [
        "**Data Splitting and Scaling**"
      ]
    },
    {
      "cell_type": "code",
      "execution_count": null,
      "metadata": {
        "id": "jastifLPuF02"
      },
      "outputs": [],
      "source": [
        "X = cus_df[['age', 'job', 'marital', 'education_qual', 'call_type', 'day', 'mon','dur', 'num_calls','prev_outcome']].values"
      ]
    },
    {
      "cell_type": "code",
      "execution_count": null,
      "metadata": {
        "id": "jy8kF_eWfOca"
      },
      "outputs": [],
      "source": [
        "o_feature =cus_df[['age', 'job', 'marital', 'education_qual', 'call_type', 'day', 'mon',\n",
        "       'dur', 'num_calls','prev_outcome']]"
      ]
    },
    {
      "cell_type": "code",
      "execution_count": null,
      "metadata": {
        "id": "hyBVoFGNvYgC"
      },
      "outputs": [],
      "source": [
        "y = cus_df[['y']].values"
      ]
    },
    {
      "cell_type": "code",
      "execution_count": null,
      "metadata": {
        "colab": {
          "base_uri": "https://localhost:8080/"
        },
        "id": "mS30HzI5v7RS",
        "outputId": "613597c7-6da2-4966-e569-68b41af0fc4e"
      },
      "outputs": [
        {
          "output_type": "stream",
          "name": "stdout",
          "text": [
            "Independent feature X has 44917 rows and 10 columns\n",
            "Dependent feature y has 44917 rows and 1 columns\n"
          ]
        }
      ],
      "source": [
        "print('Independent feature X has {} rows and {} columns'.format(X.shape[0],X.shape[1]))\n",
        "print('Dependent feature y has {} rows and {} columns'.format(y.shape[0],y.shape[1]))"
      ]
    },
    {
      "cell_type": "markdown",
      "metadata": {
        "id": "LjghG7MevuVO"
      },
      "source": [
        "**Splitting the data**"
      ]
    },
    {
      "cell_type": "code",
      "execution_count": null,
      "metadata": {
        "id": "XsnN-fs4vk1J"
      },
      "outputs": [],
      "source": [
        "from sklearn.model_selection import train_test_split\n",
        "X_train, X_test, y_train, y_test = train_test_split(X, y, test_size=0.2)"
      ]
    },
    {
      "cell_type": "code",
      "execution_count": null,
      "metadata": {
        "colab": {
          "base_uri": "https://localhost:8080/"
        },
        "id": "8G-p9ZAbvzhb",
        "outputId": "ffb65edd-1af8-459b-c95e-fe4510c32258"
      },
      "outputs": [
        {
          "output_type": "stream",
          "name": "stdout",
          "text": [
            "The shape of X train: (35933, 10)\n",
            "The shape of X test: (8984, 10)\n",
            "The shape of y train: (35933, 1)\n",
            "The shape of y test: (8984, 1)\n"
          ]
        }
      ],
      "source": [
        "print(\"The shape of X train:\", X_train.shape)\n",
        "print(\"The shape of X test:\", X_test.shape)\n",
        "print(\"The shape of y train:\", y_train.shape)\n",
        "print(\"The shape of y test:\", y_test.shape)"
      ]
    },
    {
      "cell_type": "markdown",
      "metadata": {
        "id": "q9_cXuQNwsQW"
      },
      "source": [
        "**Scaling the data**"
      ]
    },
    {
      "cell_type": "code",
      "execution_count": null,
      "metadata": {
        "id": "Iu4BIJnvwp7O"
      },
      "outputs": [],
      "source": [
        "from sklearn.preprocessing import StandardScaler\n",
        "scaler = StandardScaler() \n",
        "scaler.fit(X_train,y_train) \n",
        "X_train_scaled = scaler.transform(X_train) \n",
        "X_test_scaled = scaler.transform(X_test)"
      ]
    },
    {
      "cell_type": "code",
      "execution_count": null,
      "metadata": {
        "colab": {
          "base_uri": "https://localhost:8080/"
        },
        "id": "4BNrhKQ5OmCX",
        "outputId": "79b5212b-424b-4ea1-9e6a-cf65bd46783f"
      },
      "outputs": [
        {
          "output_type": "execute_result",
          "data": {
            "text/plain": [
              "age               0\n",
              "job               0\n",
              "marital           0\n",
              "education_qual    0\n",
              "call_type         0\n",
              "day               0\n",
              "mon               0\n",
              "dur               0\n",
              "num_calls         0\n",
              "prev_outcome      0\n",
              "y                 0\n",
              "target            0\n",
              "dtype: int64"
            ]
          },
          "metadata": {},
          "execution_count": 108
        }
      ],
      "source": [
        "cus_df.isnull().sum()"
      ]
    },
    {
      "cell_type": "markdown",
      "metadata": {
        "id": "7FQMXKDBze1V"
      },
      "source": [
        "**Balancing the target column**"
      ]
    },
    {
      "cell_type": "code",
      "execution_count": null,
      "metadata": {
        "colab": {
          "base_uri": "https://localhost:8080/"
        },
        "id": "k0JT3jShwo9e",
        "outputId": "f240bb1e-df34-4b52-c75f-dab8bf5e1031"
      },
      "outputs": [
        {
          "output_type": "stream",
          "name": "stdout",
          "text": [
            "Looking in indexes: https://pypi.org/simple, https://us-python.pkg.dev/colab-wheels/public/simple/\n",
            "Requirement already satisfied: imblearn in /usr/local/lib/python3.9/dist-packages (0.0)\n",
            "Requirement already satisfied: imbalanced-learn in /usr/local/lib/python3.9/dist-packages (from imblearn) (0.8.1)\n",
            "Requirement already satisfied: scipy>=0.19.1 in /usr/local/lib/python3.9/dist-packages (from imbalanced-learn->imblearn) (1.10.1)\n",
            "Requirement already satisfied: scikit-learn>=0.24 in /usr/local/lib/python3.9/dist-packages (from imbalanced-learn->imblearn) (1.2.1)\n",
            "Requirement already satisfied: numpy>=1.13.3 in /usr/local/lib/python3.9/dist-packages (from imbalanced-learn->imblearn) (1.22.4)\n",
            "Requirement already satisfied: joblib>=0.11 in /usr/local/lib/python3.9/dist-packages (from imbalanced-learn->imblearn) (1.2.0)\n",
            "Requirement already satisfied: threadpoolctl>=2.0.0 in /usr/local/lib/python3.9/dist-packages (from scikit-learn>=0.24->imbalanced-learn->imblearn) (3.1.0)\n"
          ]
        }
      ],
      "source": [
        "!pip install imblearn"
      ]
    },
    {
      "cell_type": "markdown",
      "metadata": {
        "id": "piPPX_R80Qy3"
      },
      "source": [
        "**Over sampling followed by under sampling**"
      ]
    },
    {
      "cell_type": "code",
      "execution_count": null,
      "metadata": {
        "id": "PrKUULPLwpES"
      },
      "outputs": [],
      "source": [
        "from imblearn.combine import SMOTEENN\n",
        "smt = SMOTEENN(sampling_strategy='all')\n",
        "X_smt, y_smt = smt.fit_resample(X_train_scaled, y_train)"
      ]
    },
    {
      "cell_type": "code",
      "execution_count": null,
      "metadata": {
        "colab": {
          "base_uri": "https://localhost:8080/"
        },
        "id": "WSPPUuyc02WT",
        "outputId": "d1ef9a76-4550-4eb6-9627-bb9f1a3e304b"
      },
      "outputs": [
        {
          "output_type": "execute_result",
          "data": {
            "text/plain": [
              "(56161,)"
            ]
          },
          "metadata": {},
          "execution_count": 111
        }
      ],
      "source": [
        "y_smt.shape"
      ]
    },
    {
      "cell_type": "markdown",
      "metadata": {
        "id": "rKb5XWcH1DxO"
      },
      "source": [
        "**Logistic Regression**"
      ]
    },
    {
      "cell_type": "code",
      "execution_count": null,
      "metadata": {
        "id": "Sa1zgUmm03Qt",
        "colab": {
          "base_uri": "https://localhost:8080/",
          "height": 74
        },
        "outputId": "0cd93b9c-145a-4a96-8734-da7513ad0bd9"
      },
      "outputs": [
        {
          "output_type": "execute_result",
          "data": {
            "text/plain": [
              "LogisticRegression()"
            ],
            "text/html": [
              "<style>#sk-container-id-4 {color: black;background-color: white;}#sk-container-id-4 pre{padding: 0;}#sk-container-id-4 div.sk-toggleable {background-color: white;}#sk-container-id-4 label.sk-toggleable__label {cursor: pointer;display: block;width: 100%;margin-bottom: 0;padding: 0.3em;box-sizing: border-box;text-align: center;}#sk-container-id-4 label.sk-toggleable__label-arrow:before {content: \"▸\";float: left;margin-right: 0.25em;color: #696969;}#sk-container-id-4 label.sk-toggleable__label-arrow:hover:before {color: black;}#sk-container-id-4 div.sk-estimator:hover label.sk-toggleable__label-arrow:before {color: black;}#sk-container-id-4 div.sk-toggleable__content {max-height: 0;max-width: 0;overflow: hidden;text-align: left;background-color: #f0f8ff;}#sk-container-id-4 div.sk-toggleable__content pre {margin: 0.2em;color: black;border-radius: 0.25em;background-color: #f0f8ff;}#sk-container-id-4 input.sk-toggleable__control:checked~div.sk-toggleable__content {max-height: 200px;max-width: 100%;overflow: auto;}#sk-container-id-4 input.sk-toggleable__control:checked~label.sk-toggleable__label-arrow:before {content: \"▾\";}#sk-container-id-4 div.sk-estimator input.sk-toggleable__control:checked~label.sk-toggleable__label {background-color: #d4ebff;}#sk-container-id-4 div.sk-label input.sk-toggleable__control:checked~label.sk-toggleable__label {background-color: #d4ebff;}#sk-container-id-4 input.sk-hidden--visually {border: 0;clip: rect(1px 1px 1px 1px);clip: rect(1px, 1px, 1px, 1px);height: 1px;margin: -1px;overflow: hidden;padding: 0;position: absolute;width: 1px;}#sk-container-id-4 div.sk-estimator {font-family: monospace;background-color: #f0f8ff;border: 1px dotted black;border-radius: 0.25em;box-sizing: border-box;margin-bottom: 0.5em;}#sk-container-id-4 div.sk-estimator:hover {background-color: #d4ebff;}#sk-container-id-4 div.sk-parallel-item::after {content: \"\";width: 100%;border-bottom: 1px solid gray;flex-grow: 1;}#sk-container-id-4 div.sk-label:hover label.sk-toggleable__label {background-color: #d4ebff;}#sk-container-id-4 div.sk-serial::before {content: \"\";position: absolute;border-left: 1px solid gray;box-sizing: border-box;top: 0;bottom: 0;left: 50%;z-index: 0;}#sk-container-id-4 div.sk-serial {display: flex;flex-direction: column;align-items: center;background-color: white;padding-right: 0.2em;padding-left: 0.2em;position: relative;}#sk-container-id-4 div.sk-item {position: relative;z-index: 1;}#sk-container-id-4 div.sk-parallel {display: flex;align-items: stretch;justify-content: center;background-color: white;position: relative;}#sk-container-id-4 div.sk-item::before, #sk-container-id-4 div.sk-parallel-item::before {content: \"\";position: absolute;border-left: 1px solid gray;box-sizing: border-box;top: 0;bottom: 0;left: 50%;z-index: -1;}#sk-container-id-4 div.sk-parallel-item {display: flex;flex-direction: column;z-index: 1;position: relative;background-color: white;}#sk-container-id-4 div.sk-parallel-item:first-child::after {align-self: flex-end;width: 50%;}#sk-container-id-4 div.sk-parallel-item:last-child::after {align-self: flex-start;width: 50%;}#sk-container-id-4 div.sk-parallel-item:only-child::after {width: 0;}#sk-container-id-4 div.sk-dashed-wrapped {border: 1px dashed gray;margin: 0 0.4em 0.5em 0.4em;box-sizing: border-box;padding-bottom: 0.4em;background-color: white;}#sk-container-id-4 div.sk-label label {font-family: monospace;font-weight: bold;display: inline-block;line-height: 1.2em;}#sk-container-id-4 div.sk-label-container {text-align: center;}#sk-container-id-4 div.sk-container {/* jupyter's `normalize.less` sets `[hidden] { display: none; }` but bootstrap.min.css set `[hidden] { display: none !important; }` so we also need the `!important` here to be able to override the default hidden behavior on the sphinx rendered scikit-learn.org. See: https://github.com/scikit-learn/scikit-learn/issues/21755 */display: inline-block !important;position: relative;}#sk-container-id-4 div.sk-text-repr-fallback {display: none;}</style><div id=\"sk-container-id-4\" class=\"sk-top-container\"><div class=\"sk-text-repr-fallback\"><pre>LogisticRegression()</pre><b>In a Jupyter environment, please rerun this cell to show the HTML representation or trust the notebook. <br />On GitHub, the HTML representation is unable to render, please try loading this page with nbviewer.org.</b></div><div class=\"sk-container\" hidden><div class=\"sk-item\"><div class=\"sk-estimator sk-toggleable\"><input class=\"sk-toggleable__control sk-hidden--visually\" id=\"sk-estimator-id-4\" type=\"checkbox\" checked><label for=\"sk-estimator-id-4\" class=\"sk-toggleable__label sk-toggleable__label-arrow\">LogisticRegression</label><div class=\"sk-toggleable__content\"><pre>LogisticRegression()</pre></div></div></div></div></div>"
            ]
          },
          "metadata": {},
          "execution_count": 148
        }
      ],
      "source": [
        "from sklearn.linear_model import LogisticRegression\n",
        "lr = LogisticRegression()\n",
        "lr.fit(X_smt,y_smt)\n"
      ]
    },
    {
      "cell_type": "code",
      "execution_count": null,
      "metadata": {
        "colab": {
          "base_uri": "https://localhost:8080/"
        },
        "id": "fWtidasr3SM9",
        "outputId": "5bd7f121-5a17-4c4a-ed43-7893d70eaaf3"
      },
      "outputs": [
        {
          "output_type": "execute_result",
          "data": {
            "text/plain": [
              "array([0, 1, 0, ..., 0, 1, 0])"
            ]
          },
          "metadata": {},
          "execution_count": 149
        }
      ],
      "source": [
        "lr_y_pred = lr.predict(X_test_scaled)\n",
        "lr_y_pred"
      ]
    },
    {
      "cell_type": "code",
      "source": [
        "from sklearn.metrics import roc_auc_score\n",
        "log = roc_auc_score(y_test, lr.predict_proba(X_test_scaled)[:, 1])\n",
        "print(\"The AUROC Score of Logistic Regression model\",log)"
      ],
      "metadata": {
        "colab": {
          "base_uri": "https://localhost:8080/"
        },
        "id": "y1RBKiB2EIlk",
        "outputId": "a2eca2e0-9e3e-4c0f-9fa9-f91b1016726c"
      },
      "execution_count": null,
      "outputs": [
        {
          "output_type": "stream",
          "name": "stdout",
          "text": [
            "The AUROC Score of Logistic Regression model 0.8987364633832731\n"
          ]
        }
      ]
    },
    {
      "cell_type": "code",
      "source": [
        "from sklearn.metrics import accuracy_score, confusion_matrix, precision_score, f1_score, recall_score, classification_report, roc_curve, roc_auc_score"
      ],
      "metadata": {
        "id": "tYDzXbpZGxaH"
      },
      "execution_count": null,
      "outputs": []
    },
    {
      "cell_type": "code",
      "source": [
        "from sklearn.metrics import RocCurveDisplay\n",
        "RocCurveDisplay.from_estimator(lr, X_test_scaled, y_test)"
      ],
      "metadata": {
        "colab": {
          "base_uri": "https://localhost:8080/",
          "height": 302
        },
        "id": "4I_VYt64Ldka",
        "outputId": "eac87031-fc8b-4eb8-bbdf-9b2782164929"
      },
      "execution_count": null,
      "outputs": [
        {
          "output_type": "execute_result",
          "data": {
            "text/plain": [
              "<sklearn.metrics._plot.roc_curve.RocCurveDisplay at 0x7f10ed874070>"
            ]
          },
          "metadata": {},
          "execution_count": 152
        },
        {
          "output_type": "display_data",
          "data": {
            "text/plain": [
              "<Figure size 432x288 with 1 Axes>"
            ],
            "image/png": "[encoded data removed]"
          },
          "metadata": {}
        }
      ]
    },
    {
      "cell_type": "code",
      "execution_count": null,
      "metadata": {
        "colab": {
          "base_uri": "https://localhost:8080/"
        },
        "id": "M4xR3-Ih15YJ",
        "outputId": "6a4406d5-02c3-4eed-8fa1-23a8da60248c"
      },
      "outputs": [
        {
          "output_type": "execute_result",
          "data": {
            "text/plain": [
              "0.7875111308993766"
            ]
          },
          "metadata": {},
          "execution_count": 153
        }
      ],
      "source": [
        "#accuracy score for logistic Regression\n",
        "accuracy_score(y_test,lr_y_pred) #accuracy"
      ]
    },
    {
      "cell_type": "code",
      "execution_count": null,
      "metadata": {
        "colab": {
          "base_uri": "https://localhost:8080/"
        },
        "id": "NkVSK2TL3evi",
        "outputId": "886cac07-3445-4e6d-ce6d-2d16b7c993b0"
      },
      "outputs": [
        {
          "output_type": "stream",
          "name": "stdout",
          "text": [
            "[[6140 1784]\n",
            " [ 125  935]]\n",
            "              precision    recall  f1-score   support\n",
            "\n",
            "           0       0.98      0.77      0.87      7924\n",
            "           1       0.34      0.88      0.49      1060\n",
            "\n",
            "    accuracy                           0.79      8984\n",
            "   macro avg       0.66      0.83      0.68      8984\n",
            "weighted avg       0.90      0.79      0.82      8984\n",
            "\n"
          ]
        }
      ],
      "source": [
        "print(confusion_matrix(y_test, lr_y_pred))\n",
        "print(classification_report(y_test,lr_y_pred))"
      ]
    },
    {
      "cell_type": "code",
      "source": [
        "#visualizing confusion matrix\n",
        "cm = confusion_matrix(y_test, lr_y_pred)\n",
        "f = sns.heatmap(cm, annot=True, fmt='d')"
      ],
      "metadata": {
        "colab": {
          "base_uri": "https://localhost:8080/",
          "height": 268
        },
        "id": "Fqm4XIwby4FD",
        "outputId": "b1d015c2-9d00-44c4-be08-872d45bc444f"
      },
      "execution_count": null,
      "outputs": [
        {
          "output_type": "display_data",
          "data": {
            "text/plain": [
              "<Figure size 432x288 with 2 Axes>"
            ],
            "image/png": "[encoded data removed]"
          },
          "metadata": {}
        }
      ]
    },
    {
      "cell_type": "markdown",
      "metadata": {
        "id": "mpf73Jbb48DF"
      },
      "source": [
        "**KNN Algorithm**"
      ]
    },
    {
      "cell_type": "code",
      "source": [
        "from sklearn.model_selection import cross_val_score"
      ],
      "metadata": {
        "id": "fZzdHsNHp-Jr"
      },
      "execution_count": null,
      "outputs": []
    },
    {
      "cell_type": "code",
      "execution_count": null,
      "metadata": {
        "colab": {
          "base_uri": "https://localhost:8080/"
        },
        "id": "nWX6eMJB6qlr",
        "outputId": "8bbc42a2-39af-44e3-a660-5a7dd4e5e4db"
      },
      "outputs": [
        {
          "output_type": "stream",
          "name": "stdout",
          "text": [
            "K value  :  1  train score :  0.8816408315476025  cv score :  0.640019813223913\n",
            "K value  :  2  train score :  0.889460941196115  cv score :  0.7079152711505212\n",
            "K value  :  3  train score :  0.8587649236078256  cv score :  0.7475176818015279\n",
            "K value  :  4  train score :  0.8649987476692733  cv score :  0.7694288996421963\n",
            "K value  :  5  train score :  0.8461581276264158  cv score :  0.7874568150440139\n",
            "K value  :  6  train score :  0.8528650544068127  cv score :  0.7995712922931729\n",
            "K value  :  7  train score :  0.8352489355188824  cv score :  0.8100041604744229\n",
            "K value  :  8  train score :  0.8423454763031197  cv score :  0.8171455063588506\n",
            "K value  :  9  train score :  0.8281245651629422  cv score :  0.8225366145751684\n",
            "K value  :  10  train score :  0.8351097876603679  cv score :  0.8269666580275368\n",
            "K value  :  20  train score :  0.8166587816213509  cv score :  0.8506336140829944\n"
          ]
        }
      ],
      "source": [
        "for i in [1,2,3,4,5,6,7,8,9,10,20]:\n",
        "  knn = KNeighborsClassifier(i)\n",
        "  knn.fit(X_smt, y_smt) \n",
        "  print(\"K value  : \" , i, \" train score : \",knn.score(X_train_scaled, y_train) , \" cv score : \", np.mean(cross_val_score(knn, X_train, y_train, cv=10, scoring = \"roc_auc\"))) \n",
        "  "
      ]
    },
    {
      "cell_type": "code",
      "execution_count": null,
      "metadata": {
        "colab": {
          "base_uri": "https://localhost:8080/",
          "height": 394
        },
        "id": "XCdfSxyr_i5U",
        "outputId": "b7791112-e285-4312-87c2-1ef345f8f4ae"
      },
      "outputs": [
        {
          "output_type": "execute_result",
          "data": {
            "text/plain": [
              "    K value  train score  cv score\n",
              "0         1     0.881641  0.640020\n",
              "1         2     0.889461  0.707915\n",
              "2         3     0.858765  0.747518\n",
              "3         4     0.864999  0.769429\n",
              "4         5     0.846158  0.787457\n",
              "5         6     0.852865  0.799571\n",
              "6         7     0.835249  0.810004\n",
              "7         8     0.842345  0.817146\n",
              "8         9     0.828125  0.822537\n",
              "9        10     0.835110  0.826967\n",
              "10       20     0.816659  0.850634"
            ],
            "text/html": [
              "\n",
              "  <div id=\"df-6018d403-624a-4ae1-bb0d-416ad767f373\">\n",
              "    <div class=\"colab-df-container\">\n",
              "      <div>\n",
              "<style scoped>\n",
              "    .dataframe tbody tr th:only-of-type {\n",
              "        vertical-align: middle;\n",
              "    }\n",
              "\n",
              "    .dataframe tbody tr th {\n",
              "        vertical-align: top;\n",
              "    }\n",
              "\n",
              "    .dataframe thead th {\n",
              "        text-align: right;\n",
              "    }\n",
              "</style>\n",
              "<table border=\"1\" class=\"dataframe\">\n",
              "  <thead>\n",
              "    <tr style=\"text-align: right;\">\n",
              "      <th></th>\n",
              "      <th>K value</th>\n",
              "      <th>train score</th>\n",
              "      <th>cv score</th>\n",
              "    </tr>\n",
              "  </thead>\n",
              "  <tbody>\n",
              "    <tr>\n",
              "      <th>0</th>\n",
              "      <td>1</td>\n",
              "      <td>0.881641</td>\n",
              "      <td>0.640020</td>\n",
              "    </tr>\n",
              "    <tr>\n",
              "      <th>1</th>\n",
              "      <td>2</td>\n",
              "      <td>0.889461</td>\n",
              "      <td>0.707915</td>\n",
              "    </tr>\n",
              "    <tr>\n",
              "      <th>2</th>\n",
              "      <td>3</td>\n",
              "      <td>0.858765</td>\n",
              "      <td>0.747518</td>\n",
              "    </tr>\n",
              "    <tr>\n",
              "      <th>3</th>\n",
              "      <td>4</td>\n",
              "      <td>0.864999</td>\n",
              "      <td>0.769429</td>\n",
              "    </tr>\n",
              "    <tr>\n",
              "      <th>4</th>\n",
              "      <td>5</td>\n",
              "      <td>0.846158</td>\n",
              "      <td>0.787457</td>\n",
              "    </tr>\n",
              "    <tr>\n",
              "      <th>5</th>\n",
              "      <td>6</td>\n",
              "      <td>0.852865</td>\n",
              "      <td>0.799571</td>\n",
              "    </tr>\n",
              "    <tr>\n",
              "      <th>6</th>\n",
              "      <td>7</td>\n",
              "      <td>0.835249</td>\n",
              "      <td>0.810004</td>\n",
              "    </tr>\n",
              "    <tr>\n",
              "      <th>7</th>\n",
              "      <td>8</td>\n",
              "      <td>0.842345</td>\n",
              "      <td>0.817146</td>\n",
              "    </tr>\n",
              "    <tr>\n",
              "      <th>8</th>\n",
              "      <td>9</td>\n",
              "      <td>0.828125</td>\n",
              "      <td>0.822537</td>\n",
              "    </tr>\n",
              "    <tr>\n",
              "      <th>9</th>\n",
              "      <td>10</td>\n",
              "      <td>0.835110</td>\n",
              "      <td>0.826967</td>\n",
              "    </tr>\n",
              "    <tr>\n",
              "      <th>10</th>\n",
              "      <td>20</td>\n",
              "      <td>0.816659</td>\n",
              "      <td>0.850634</td>\n",
              "    </tr>\n",
              "  </tbody>\n",
              "</table>\n",
              "</div>\n",
              "      <button class=\"colab-df-convert\" onclick=\"convertToInteractive('df-6018d403-624a-4ae1-bb0d-416ad767f373')\"\n",
              "              title=\"Convert this dataframe to an interactive table.\"\n",
              "              style=\"display:none;\">\n",
              "        \n",
              "  <svg xmlns=\"http://www.w3.org/2000/svg\" height=\"24px\"viewBox=\"0 0 24 24\"\n",
              "       width=\"24px\">\n",
              "    <path d=\"M0 0h24v24H0V0z\" fill=\"none\"/>\n",
              "    <path d=\"M18.56 5.44l.94 2.06.94-2.06 2.06-.94-2.06-.94-.94-2.06-.94 2.06-2.06.94zm-11 1L8.5 8.5l.94-2.06 2.06-.94-2.06-.94L8.5 2.5l-.94 2.06-2.06.94zm10 10l.94 2.06.94-2.06 2.06-.94-2.06-.94-.94-2.06-.94 2.06-2.06.94z\"/><path d=\"M17.41 7.96l-1.37-1.37c-.4-.4-.92-.59-1.43-.59-.52 0-1.04.2-1.43.59L10.3 9.45l-7.72 7.72c-.78.78-.78 2.05 0 2.83L4 21.41c.39.39.9.59 1.41.59.51 0 1.02-.2 1.41-.59l7.78-7.78 2.81-2.81c.8-.78.8-2.07 0-2.86zM5.41 20L4 18.59l7.72-7.72 1.47 1.35L5.41 20z\"/>\n",
              "  </svg>\n",
              "      </button>\n",
              "      \n",
              "  <style>\n",
              "    .colab-df-container {\n",
              "      display:flex;\n",
              "      flex-wrap:wrap;\n",
              "      gap: 12px;\n",
              "    }\n",
              "\n",
              "    .colab-df-convert {\n",
              "      background-color: #E8F0FE;\n",
              "      border: none;\n",
              "      border-radius: 50%;\n",
              "      cursor: pointer;\n",
              "      display: none;\n",
              "      fill: #1967D2;\n",
              "      height: 32px;\n",
              "      padding: 0 0 0 0;\n",
              "      width: 32px;\n",
              "    }\n",
              "\n",
              "    .colab-df-convert:hover {\n",
              "      background-color: #E2EBFA;\n",
              "      box-shadow: 0px 1px 2px rgba(60, 64, 67, 0.3), 0px 1px 3px 1px rgba(60, 64, 67, 0.15);\n",
              "      fill: #174EA6;\n",
              "    }\n",
              "\n",
              "    [theme=dark] .colab-df-convert {\n",
              "      background-color: #3B4455;\n",
              "      fill: #D2E3FC;\n",
              "    }\n",
              "\n",
              "    [theme=dark] .colab-df-convert:hover {\n",
              "      background-color: #434B5C;\n",
              "      box-shadow: 0px 1px 3px 1px rgba(0, 0, 0, 0.15);\n",
              "      filter: drop-shadow(0px 1px 2px rgba(0, 0, 0, 0.3));\n",
              "      fill: #FFFFFF;\n",
              "    }\n",
              "  </style>\n",
              "\n",
              "      <script>\n",
              "        const buttonEl =\n",
              "          document.querySelector('#df-6018d403-624a-4ae1-bb0d-416ad767f373 button.colab-df-convert');\n",
              "        buttonEl.style.display =\n",
              "          google.colab.kernel.accessAllowed ? 'block' : 'none';\n",
              "\n",
              "        async function convertToInteractive(key) {\n",
              "          const element = document.querySelector('#df-6018d403-624a-4ae1-bb0d-416ad767f373');\n",
              "          const dataTable =\n",
              "            await google.colab.kernel.invokeFunction('convertToInteractive',\n",
              "                                                     [key], {});\n",
              "          if (!dataTable) return;\n",
              "\n",
              "          const docLinkHtml = 'Like what you see? Visit the ' +\n",
              "            '<a target=\"_blank\" href=https://colab.research.google.com/notebooks/data_table.ipynb>data table notebook</a>'\n",
              "            + ' to learn more about interactive tables.';\n",
              "          element.innerHTML = '';\n",
              "          dataTable['output_type'] = 'display_data';\n",
              "          await google.colab.output.renderOutput(dataTable, element);\n",
              "          const docLink = document.createElement('div');\n",
              "          docLink.innerHTML = docLinkHtml;\n",
              "          element.appendChild(docLink);\n",
              "        }\n",
              "      </script>\n",
              "    </div>\n",
              "  </div>\n",
              "  "
            ]
          },
          "metadata": {},
          "execution_count": 124
        }
      ],
      "source": [
        "knn_dict = {'K value':[],'train score':[],'cv score':[]}\n",
        "for i in [1,2,3,4,5,6,7,8,9,10,20]:\n",
        "  knn = KNeighborsClassifier(i)\n",
        "  knn.fit(X_smt, y_smt)\n",
        "  knn_dict['K value'].append(i)\n",
        "  knn_dict['train score'].append(knn.score(X_train_scaled, y_train))\n",
        "  knn_dict['cv score'].append(np.mean(cross_val_score(knn, X_train, y_train, cv=10, scoring = \"roc_auc\")))\n",
        "\n",
        "pd.DataFrame(knn_dict)"
      ]
    },
    {
      "cell_type": "code",
      "execution_count": null,
      "metadata": {
        "id": "-loVHNXdCf_7",
        "colab": {
          "base_uri": "https://localhost:8080/",
          "height": 74
        },
        "outputId": "70689d79-4b66-4ae1-f608-373fa42c3a56"
      },
      "outputs": [
        {
          "output_type": "execute_result",
          "data": {
            "text/plain": [
              "KNeighborsClassifier(n_neighbors=10)"
            ],
            "text/html": [
              "<style>#sk-container-id-3 {color: black;background-color: white;}#sk-container-id-3 pre{padding: 0;}#sk-container-id-3 div.sk-toggleable {background-color: white;}#sk-container-id-3 label.sk-toggleable__label {cursor: pointer;display: block;width: 100%;margin-bottom: 0;padding: 0.3em;box-sizing: border-box;text-align: center;}#sk-container-id-3 label.sk-toggleable__label-arrow:before {content: \"▸\";float: left;margin-right: 0.25em;color: #696969;}#sk-container-id-3 label.sk-toggleable__label-arrow:hover:before {color: black;}#sk-container-id-3 div.sk-estimator:hover label.sk-toggleable__label-arrow:before {color: black;}#sk-container-id-3 div.sk-toggleable__content {max-height: 0;max-width: 0;overflow: hidden;text-align: left;background-color: #f0f8ff;}#sk-container-id-3 div.sk-toggleable__content pre {margin: 0.2em;color: black;border-radius: 0.25em;background-color: #f0f8ff;}#sk-container-id-3 input.sk-toggleable__control:checked~div.sk-toggleable__content {max-height: 200px;max-width: 100%;overflow: auto;}#sk-container-id-3 input.sk-toggleable__control:checked~label.sk-toggleable__label-arrow:before {content: \"▾\";}#sk-container-id-3 div.sk-estimator input.sk-toggleable__control:checked~label.sk-toggleable__label {background-color: #d4ebff;}#sk-container-id-3 div.sk-label input.sk-toggleable__control:checked~label.sk-toggleable__label {background-color: #d4ebff;}#sk-container-id-3 input.sk-hidden--visually {border: 0;clip: rect(1px 1px 1px 1px);clip: rect(1px, 1px, 1px, 1px);height: 1px;margin: -1px;overflow: hidden;padding: 0;position: absolute;width: 1px;}#sk-container-id-3 div.sk-estimator {font-family: monospace;background-color: #f0f8ff;border: 1px dotted black;border-radius: 0.25em;box-sizing: border-box;margin-bottom: 0.5em;}#sk-container-id-3 div.sk-estimator:hover {background-color: #d4ebff;}#sk-container-id-3 div.sk-parallel-item::after {content: \"\";width: 100%;border-bottom: 1px solid gray;flex-grow: 1;}#sk-container-id-3 div.sk-label:hover label.sk-toggleable__label {background-color: #d4ebff;}#sk-container-id-3 div.sk-serial::before {content: \"\";position: absolute;border-left: 1px solid gray;box-sizing: border-box;top: 0;bottom: 0;left: 50%;z-index: 0;}#sk-container-id-3 div.sk-serial {display: flex;flex-direction: column;align-items: center;background-color: white;padding-right: 0.2em;padding-left: 0.2em;position: relative;}#sk-container-id-3 div.sk-item {position: relative;z-index: 1;}#sk-container-id-3 div.sk-parallel {display: flex;align-items: stretch;justify-content: center;background-color: white;position: relative;}#sk-container-id-3 div.sk-item::before, #sk-container-id-3 div.sk-parallel-item::before {content: \"\";position: absolute;border-left: 1px solid gray;box-sizing: border-box;top: 0;bottom: 0;left: 50%;z-index: -1;}#sk-container-id-3 div.sk-parallel-item {display: flex;flex-direction: column;z-index: 1;position: relative;background-color: white;}#sk-container-id-3 div.sk-parallel-item:first-child::after {align-self: flex-end;width: 50%;}#sk-container-id-3 div.sk-parallel-item:last-child::after {align-self: flex-start;width: 50%;}#sk-container-id-3 div.sk-parallel-item:only-child::after {width: 0;}#sk-container-id-3 div.sk-dashed-wrapped {border: 1px dashed gray;margin: 0 0.4em 0.5em 0.4em;box-sizing: border-box;padding-bottom: 0.4em;background-color: white;}#sk-container-id-3 div.sk-label label {font-family: monospace;font-weight: bold;display: inline-block;line-height: 1.2em;}#sk-container-id-3 div.sk-label-container {text-align: center;}#sk-container-id-3 div.sk-container {/* jupyter's `normalize.less` sets `[hidden] { display: none; }` but bootstrap.min.css set `[hidden] { display: none !important; }` so we also need the `!important` here to be able to override the default hidden behavior on the sphinx rendered scikit-learn.org. See: https://github.com/scikit-learn/scikit-learn/issues/21755 */display: inline-block !important;position: relative;}#sk-container-id-3 div.sk-text-repr-fallback {display: none;}</style><div id=\"sk-container-id-3\" class=\"sk-top-container\"><div class=\"sk-text-repr-fallback\"><pre>KNeighborsClassifier(n_neighbors=10)</pre><b>In a Jupyter environment, please rerun this cell to show the HTML representation or trust the notebook. <br />On GitHub, the HTML representation is unable to render, please try loading this page with nbviewer.org.</b></div><div class=\"sk-container\" hidden><div class=\"sk-item\"><div class=\"sk-estimator sk-toggleable\"><input class=\"sk-toggleable__control sk-hidden--visually\" id=\"sk-estimator-id-3\" type=\"checkbox\" checked><label for=\"sk-estimator-id-3\" class=\"sk-toggleable__label sk-toggleable__label-arrow\">KNeighborsClassifier</label><div class=\"sk-toggleable__content\"><pre>KNeighborsClassifier(n_neighbors=10)</pre></div></div></div></div></div>"
            ]
          },
          "metadata": {},
          "execution_count": 144
        }
      ],
      "source": [
        "#fiiting the model\n",
        "knn = KNeighborsClassifier(10) #k-value = 10\n",
        "knn.fit(X_smt,y_smt)\n"
      ]
    },
    {
      "cell_type": "code",
      "source": [
        "knn_y_pred=knn.predict(X_test_scaled)"
      ],
      "metadata": {
        "id": "InAi7JQvtlBY"
      },
      "execution_count": null,
      "outputs": []
    },
    {
      "cell_type": "code",
      "source": [
        "from sklearn.metrics import roc_auc_score\n",
        "knn_log = roc_auc_score(y_test, knn.predict_proba(X_test_scaled)[:, 1])\n",
        "print(\"The AUROC Score of K-Nearest-Neighbour model\",knn_log)"
      ],
      "metadata": {
        "colab": {
          "base_uri": "https://localhost:8080/"
        },
        "id": "RgnTyiD-sID9",
        "outputId": "e026bdc3-daf3-485c-c451-c11b3c13d301"
      },
      "execution_count": null,
      "outputs": [
        {
          "output_type": "stream",
          "name": "stdout",
          "text": [
            "The AUROC Score of K-Nearest-Neighbour model 0.88163526377949\n"
          ]
        }
      ]
    },
    {
      "cell_type": "code",
      "source": [
        "#plotting ROC Curve\n",
        "RocCurveDisplay.from_estimator(knn, X_test_scaled, y_test)"
      ],
      "metadata": {
        "colab": {
          "base_uri": "https://localhost:8080/",
          "height": 302
        },
        "id": "K_XJGvCjraNq",
        "outputId": "36ae867a-f3b7-4ae9-9899-20076456a520"
      },
      "execution_count": null,
      "outputs": [
        {
          "output_type": "execute_result",
          "data": {
            "text/plain": [
              "<sklearn.metrics._plot.roc_curve.RocCurveDisplay at 0x7f10ea98aeb0>"
            ]
          },
          "metadata": {},
          "execution_count": 147
        },
        {
          "output_type": "display_data",
          "data": {
            "text/plain": [
              "<Figure size 432x288 with 1 Axes>"
            ],
            "image/png": "[encoded data removed]"
          },
          "metadata": {}
        }
      ]
    },
    {
      "cell_type": "code",
      "execution_count": null,
      "metadata": {
        "colab": {
          "base_uri": "https://localhost:8080/"
        },
        "id": "a9vSGeyNF8sL",
        "outputId": "bc0542b1-f3fc-4434-b097-b7c9725be01e"
      },
      "outputs": [
        {
          "output_type": "stream",
          "name": "stdout",
          "text": [
            "              precision    recall  f1-score   support\n",
            "\n",
            "           0       0.97      0.81      0.89      7924\n",
            "           1       0.38      0.84      0.52      1060\n",
            "\n",
            "    accuracy                           0.82      8984\n",
            "   macro avg       0.68      0.83      0.70      8984\n",
            "weighted avg       0.90      0.82      0.84      8984\n",
            "\n"
          ]
        }
      ],
      "source": [
        "print(classification_report(y_test,knn_y_pred))"
      ]
    },
    {
      "cell_type": "code",
      "source": [
        "#visualizing confusion matrix\n",
        "cm = confusion_matrix(y_test, knn_y_pred)\n",
        "f = sns.heatmap(cm, annot=True, fmt='d')"
      ],
      "metadata": {
        "colab": {
          "base_uri": "https://localhost:8080/",
          "height": 268
        },
        "id": "1wMtRhZO1euE",
        "outputId": "b7886c25-4300-4b6f-c161-728e80223774"
      },
      "execution_count": null,
      "outputs": [
        {
          "output_type": "display_data",
          "data": {
            "text/plain": [
              "<Figure size 432x288 with 2 Axes>"
            ],
            "image/png": "[encoded data removed]"
          },
          "metadata": {}
        }
      ]
    },
    {
      "cell_type": "markdown",
      "metadata": {
        "id": "MSf3395oRNG8"
      },
      "source": [
        "**Decision Tree**"
      ]
    },
    {
      "cell_type": "code",
      "execution_count": null,
      "metadata": {
        "colab": {
          "base_uri": "https://localhost:8080/"
        },
        "id": "d6E9ZQmVF8wk",
        "outputId": "85194231-1c75-49c0-d9eb-62abe4dabe56"
      },
      "outputs": [
        {
          "output_type": "stream",
          "name": "stdout",
          "text": [
            "Depth  :  1  Training Accuracy :  0.6418890713271923  Cross val score :  0.8832549564238013\n",
            "Depth  :  2  Training Accuracy :  0.5789107505635488  Cross val score :  0.8904626042011758\n",
            "Depth  :  3  Training Accuracy :  0.6958227812873959  Cross val score :  0.8968079046299916\n",
            "Depth  :  4  Training Accuracy :  0.7125483538808338  Cross val score :  0.8991174718169148\n",
            "Depth  :  5  Training Accuracy :  0.8090334789747585  Cross val score :  0.8992287839103457\n",
            "Depth  :  6  Training Accuracy :  0.7582723401886845  Cross val score :  0.8993124886840966\n",
            "Depth  :  7  Training Accuracy :  0.7889961873486767  Cross val score :  0.8983105017314784\n",
            "Depth  :  8  Training Accuracy :  0.8222803551053349  Cross val score :  0.8972252126925214\n",
            "Depth  :  9  Training Accuracy :  0.8302674421840648  Cross val score :  0.896195324148653\n",
            "Depth  :  10  Training Accuracy :  0.8289872818857318  Cross val score :  0.8938578631144681\n",
            "Depth  :  20  Training Accuracy :  0.9096095511090084  Cross val score :  0.876686923392282\n"
          ]
        }
      ],
      "source": [
        "for depth in [1,2,3,4,5,6,7,8,9,10,20]:\n",
        "  dt = DecisionTreeClassifier(max_depth=depth) \n",
        "  dt.fit(X_smt, y_smt) \n",
        "  trainAccuracy = accuracy_score(y_train, dt.predict(X_train_scaled)) \n",
        "  dt = DecisionTreeClassifier(max_depth=depth) \n",
        "  valAccuracy = cross_val_score(dt, X_train_scaled, y_train, cv=10) \n",
        "  print(\"Depth  : \", depth, \" Training Accuracy : \", trainAccuracy, \" Cross val score : \" ,np.mean(valAccuracy))"
      ]
    },
    {
      "cell_type": "code",
      "execution_count": null,
      "metadata": {
        "colab": {
          "base_uri": "https://localhost:8080/",
          "height": 394
        },
        "id": "xoeKuPL-M5dH",
        "outputId": "1f551f69-04eb-4437-ba72-1ada4fe96f7d"
      },
      "outputs": [
        {
          "output_type": "execute_result",
          "data": {
            "text/plain": [
              "    depth  train score  cv score\n",
              "0       1     0.641889  0.883255\n",
              "1       2     0.578911  0.890463\n",
              "2       3     0.695823  0.896808\n",
              "3       4     0.712548  0.899117\n",
              "4       5     0.809033  0.899229\n",
              "5       6     0.758272  0.899285\n",
              "6       7     0.788968  0.898338\n",
              "7       8     0.822169  0.897253\n",
              "8       9     0.830407  0.896168\n",
              "9      10     0.828820  0.894331\n",
              "10     20     0.910166  0.876409"
            ],
            "text/html": [
              "\n",
              "  <div id=\"df-84820889-1e41-4cbb-83d2-fca0a5ca8b93\">\n",
              "    <div class=\"colab-df-container\">\n",
              "      <div>\n",
              "<style scoped>\n",
              "    .dataframe tbody tr th:only-of-type {\n",
              "        vertical-align: middle;\n",
              "    }\n",
              "\n",
              "    .dataframe tbody tr th {\n",
              "        vertical-align: top;\n",
              "    }\n",
              "\n",
              "    .dataframe thead th {\n",
              "        text-align: right;\n",
              "    }\n",
              "</style>\n",
              "<table border=\"1\" class=\"dataframe\">\n",
              "  <thead>\n",
              "    <tr style=\"text-align: right;\">\n",
              "      <th></th>\n",
              "      <th>depth</th>\n",
              "      <th>train score</th>\n",
              "      <th>cv score</th>\n",
              "    </tr>\n",
              "  </thead>\n",
              "  <tbody>\n",
              "    <tr>\n",
              "      <th>0</th>\n",
              "      <td>1</td>\n",
              "      <td>0.641889</td>\n",
              "      <td>0.883255</td>\n",
              "    </tr>\n",
              "    <tr>\n",
              "      <th>1</th>\n",
              "      <td>2</td>\n",
              "      <td>0.578911</td>\n",
              "      <td>0.890463</td>\n",
              "    </tr>\n",
              "    <tr>\n",
              "      <th>2</th>\n",
              "      <td>3</td>\n",
              "      <td>0.695823</td>\n",
              "      <td>0.896808</td>\n",
              "    </tr>\n",
              "    <tr>\n",
              "      <th>3</th>\n",
              "      <td>4</td>\n",
              "      <td>0.712548</td>\n",
              "      <td>0.899117</td>\n",
              "    </tr>\n",
              "    <tr>\n",
              "      <th>4</th>\n",
              "      <td>5</td>\n",
              "      <td>0.809033</td>\n",
              "      <td>0.899229</td>\n",
              "    </tr>\n",
              "    <tr>\n",
              "      <th>5</th>\n",
              "      <td>6</td>\n",
              "      <td>0.758272</td>\n",
              "      <td>0.899285</td>\n",
              "    </tr>\n",
              "    <tr>\n",
              "      <th>6</th>\n",
              "      <td>7</td>\n",
              "      <td>0.788968</td>\n",
              "      <td>0.898338</td>\n",
              "    </tr>\n",
              "    <tr>\n",
              "      <th>7</th>\n",
              "      <td>8</td>\n",
              "      <td>0.822169</td>\n",
              "      <td>0.897253</td>\n",
              "    </tr>\n",
              "    <tr>\n",
              "      <th>8</th>\n",
              "      <td>9</td>\n",
              "      <td>0.830407</td>\n",
              "      <td>0.896168</td>\n",
              "    </tr>\n",
              "    <tr>\n",
              "      <th>9</th>\n",
              "      <td>10</td>\n",
              "      <td>0.828820</td>\n",
              "      <td>0.894331</td>\n",
              "    </tr>\n",
              "    <tr>\n",
              "      <th>10</th>\n",
              "      <td>20</td>\n",
              "      <td>0.910166</td>\n",
              "      <td>0.876409</td>\n",
              "    </tr>\n",
              "  </tbody>\n",
              "</table>\n",
              "</div>\n",
              "      <button class=\"colab-df-convert\" onclick=\"convertToInteractive('df-84820889-1e41-4cbb-83d2-fca0a5ca8b93')\"\n",
              "              title=\"Convert this dataframe to an interactive table.\"\n",
              "              style=\"display:none;\">\n",
              "        \n",
              "  <svg xmlns=\"http://www.w3.org/2000/svg\" height=\"24px\"viewBox=\"0 0 24 24\"\n",
              "       width=\"24px\">\n",
              "    <path d=\"M0 0h24v24H0V0z\" fill=\"none\"/>\n",
              "    <path d=\"M18.56 5.44l.94 2.06.94-2.06 2.06-.94-2.06-.94-.94-2.06-.94 2.06-2.06.94zm-11 1L8.5 8.5l.94-2.06 2.06-.94-2.06-.94L8.5 2.5l-.94 2.06-2.06.94zm10 10l.94 2.06.94-2.06 2.06-.94-2.06-.94-.94-2.06-.94 2.06-2.06.94z\"/><path d=\"M17.41 7.96l-1.37-1.37c-.4-.4-.92-.59-1.43-.59-.52 0-1.04.2-1.43.59L10.3 9.45l-7.72 7.72c-.78.78-.78 2.05 0 2.83L4 21.41c.39.39.9.59 1.41.59.51 0 1.02-.2 1.41-.59l7.78-7.78 2.81-2.81c.8-.78.8-2.07 0-2.86zM5.41 20L4 18.59l7.72-7.72 1.47 1.35L5.41 20z\"/>\n",
              "  </svg>\n",
              "      </button>\n",
              "      \n",
              "  <style>\n",
              "    .colab-df-container {\n",
              "      display:flex;\n",
              "      flex-wrap:wrap;\n",
              "      gap: 12px;\n",
              "    }\n",
              "\n",
              "    .colab-df-convert {\n",
              "      background-color: #E8F0FE;\n",
              "      border: none;\n",
              "      border-radius: 50%;\n",
              "      cursor: pointer;\n",
              "      display: none;\n",
              "      fill: #1967D2;\n",
              "      height: 32px;\n",
              "      padding: 0 0 0 0;\n",
              "      width: 32px;\n",
              "    }\n",
              "\n",
              "    .colab-df-convert:hover {\n",
              "      background-color: #E2EBFA;\n",
              "      box-shadow: 0px 1px 2px rgba(60, 64, 67, 0.3), 0px 1px 3px 1px rgba(60, 64, 67, 0.15);\n",
              "      fill: #174EA6;\n",
              "    }\n",
              "\n",
              "    [theme=dark] .colab-df-convert {\n",
              "      background-color: #3B4455;\n",
              "      fill: #D2E3FC;\n",
              "    }\n",
              "\n",
              "    [theme=dark] .colab-df-convert:hover {\n",
              "      background-color: #434B5C;\n",
              "      box-shadow: 0px 1px 3px 1px rgba(0, 0, 0, 0.15);\n",
              "      filter: drop-shadow(0px 1px 2px rgba(0, 0, 0, 0.3));\n",
              "      fill: #FFFFFF;\n",
              "    }\n",
              "  </style>\n",
              "\n",
              "      <script>\n",
              "        const buttonEl =\n",
              "          document.querySelector('#df-84820889-1e41-4cbb-83d2-fca0a5ca8b93 button.colab-df-convert');\n",
              "        buttonEl.style.display =\n",
              "          google.colab.kernel.accessAllowed ? 'block' : 'none';\n",
              "\n",
              "        async function convertToInteractive(key) {\n",
              "          const element = document.querySelector('#df-84820889-1e41-4cbb-83d2-fca0a5ca8b93');\n",
              "          const dataTable =\n",
              "            await google.colab.kernel.invokeFunction('convertToInteractive',\n",
              "                                                     [key], {});\n",
              "          if (!dataTable) return;\n",
              "\n",
              "          const docLinkHtml = 'Like what you see? Visit the ' +\n",
              "            '<a target=\"_blank\" href=https://colab.research.google.com/notebooks/data_table.ipynb>data table notebook</a>'\n",
              "            + ' to learn more about interactive tables.';\n",
              "          element.innerHTML = '';\n",
              "          dataTable['output_type'] = 'display_data';\n",
              "          await google.colab.output.renderOutput(dataTable, element);\n",
              "          const docLink = document.createElement('div');\n",
              "          docLink.innerHTML = docLinkHtml;\n",
              "          element.appendChild(docLink);\n",
              "        }\n",
              "      </script>\n",
              "    </div>\n",
              "  </div>\n",
              "  "
            ]
          },
          "metadata": {},
          "execution_count": 131
        }
      ],
      "source": [
        "dt_dict = {'depth':[],'train score':[],'cv score':[]}\n",
        "for depth in [1,2,3,4,5,6,7,8,9,10,20]:\n",
        "  dt = DecisionTreeClassifier(max_depth=depth) \n",
        "  dt.fit(X_smt, y_smt) \n",
        "  dt_dict['depth'].append(depth)\n",
        "  dt_dict['train score'].append(accuracy_score(y_train, dt.predict(X_train_scaled)))\n",
        "  dt_dict['cv score'].append(np.mean(cross_val_score(dt, X_train_scaled, y_train, cv=10)))\n",
        "\n",
        "pd.DataFrame(dt_dict)"
      ]
    },
    {
      "cell_type": "code",
      "execution_count": null,
      "metadata": {
        "id": "fTrU8W9CIX84",
        "colab": {
          "base_uri": "https://localhost:8080/",
          "height": 74
        },
        "outputId": "6d1ae1b6-72fc-4e90-d071-b627b500e7b9"
      },
      "outputs": [
        {
          "output_type": "execute_result",
          "data": {
            "text/plain": [
              "DecisionTreeClassifier(max_depth=7)"
            ],
            "text/html": [
              "<style>#sk-container-id-2 {color: black;background-color: white;}#sk-container-id-2 pre{padding: 0;}#sk-container-id-2 div.sk-toggleable {background-color: white;}#sk-container-id-2 label.sk-toggleable__label {cursor: pointer;display: block;width: 100%;margin-bottom: 0;padding: 0.3em;box-sizing: border-box;text-align: center;}#sk-container-id-2 label.sk-toggleable__label-arrow:before {content: \"▸\";float: left;margin-right: 0.25em;color: #696969;}#sk-container-id-2 label.sk-toggleable__label-arrow:hover:before {color: black;}#sk-container-id-2 div.sk-estimator:hover label.sk-toggleable__label-arrow:before {color: black;}#sk-container-id-2 div.sk-toggleable__content {max-height: 0;max-width: 0;overflow: hidden;text-align: left;background-color: #f0f8ff;}#sk-container-id-2 div.sk-toggleable__content pre {margin: 0.2em;color: black;border-radius: 0.25em;background-color: #f0f8ff;}#sk-container-id-2 input.sk-toggleable__control:checked~div.sk-toggleable__content {max-height: 200px;max-width: 100%;overflow: auto;}#sk-container-id-2 input.sk-toggleable__control:checked~label.sk-toggleable__label-arrow:before {content: \"▾\";}#sk-container-id-2 div.sk-estimator input.sk-toggleable__control:checked~label.sk-toggleable__label {background-color: #d4ebff;}#sk-container-id-2 div.sk-label input.sk-toggleable__control:checked~label.sk-toggleable__label {background-color: #d4ebff;}#sk-container-id-2 input.sk-hidden--visually {border: 0;clip: rect(1px 1px 1px 1px);clip: rect(1px, 1px, 1px, 1px);height: 1px;margin: -1px;overflow: hidden;padding: 0;position: absolute;width: 1px;}#sk-container-id-2 div.sk-estimator {font-family: monospace;background-color: #f0f8ff;border: 1px dotted black;border-radius: 0.25em;box-sizing: border-box;margin-bottom: 0.5em;}#sk-container-id-2 div.sk-estimator:hover {background-color: #d4ebff;}#sk-container-id-2 div.sk-parallel-item::after {content: \"\";width: 100%;border-bottom: 1px solid gray;flex-grow: 1;}#sk-container-id-2 div.sk-label:hover label.sk-toggleable__label {background-color: #d4ebff;}#sk-container-id-2 div.sk-serial::before {content: \"\";position: absolute;border-left: 1px solid gray;box-sizing: border-box;top: 0;bottom: 0;left: 50%;z-index: 0;}#sk-container-id-2 div.sk-serial {display: flex;flex-direction: column;align-items: center;background-color: white;padding-right: 0.2em;padding-left: 0.2em;position: relative;}#sk-container-id-2 div.sk-item {position: relative;z-index: 1;}#sk-container-id-2 div.sk-parallel {display: flex;align-items: stretch;justify-content: center;background-color: white;position: relative;}#sk-container-id-2 div.sk-item::before, #sk-container-id-2 div.sk-parallel-item::before {content: \"\";position: absolute;border-left: 1px solid gray;box-sizing: border-box;top: 0;bottom: 0;left: 50%;z-index: -1;}#sk-container-id-2 div.sk-parallel-item {display: flex;flex-direction: column;z-index: 1;position: relative;background-color: white;}#sk-container-id-2 div.sk-parallel-item:first-child::after {align-self: flex-end;width: 50%;}#sk-container-id-2 div.sk-parallel-item:last-child::after {align-self: flex-start;width: 50%;}#sk-container-id-2 div.sk-parallel-item:only-child::after {width: 0;}#sk-container-id-2 div.sk-dashed-wrapped {border: 1px dashed gray;margin: 0 0.4em 0.5em 0.4em;box-sizing: border-box;padding-bottom: 0.4em;background-color: white;}#sk-container-id-2 div.sk-label label {font-family: monospace;font-weight: bold;display: inline-block;line-height: 1.2em;}#sk-container-id-2 div.sk-label-container {text-align: center;}#sk-container-id-2 div.sk-container {/* jupyter's `normalize.less` sets `[hidden] { display: none; }` but bootstrap.min.css set `[hidden] { display: none !important; }` so we also need the `!important` here to be able to override the default hidden behavior on the sphinx rendered scikit-learn.org. See: https://github.com/scikit-learn/scikit-learn/issues/21755 */display: inline-block !important;position: relative;}#sk-container-id-2 div.sk-text-repr-fallback {display: none;}</style><div id=\"sk-container-id-2\" class=\"sk-top-container\"><div class=\"sk-text-repr-fallback\"><pre>DecisionTreeClassifier(max_depth=7)</pre><b>In a Jupyter environment, please rerun this cell to show the HTML representation or trust the notebook. <br />On GitHub, the HTML representation is unable to render, please try loading this page with nbviewer.org.</b></div><div class=\"sk-container\" hidden><div class=\"sk-item\"><div class=\"sk-estimator sk-toggleable\"><input class=\"sk-toggleable__control sk-hidden--visually\" id=\"sk-estimator-id-2\" type=\"checkbox\" checked><label for=\"sk-estimator-id-2\" class=\"sk-toggleable__label sk-toggleable__label-arrow\">DecisionTreeClassifier</label><div class=\"sk-toggleable__content\"><pre>DecisionTreeClassifier(max_depth=7)</pre></div></div></div></div></div>"
            ]
          },
          "metadata": {},
          "execution_count": 139
        }
      ],
      "source": [
        "#fitting the model\n",
        "dt = DecisionTreeClassifier(max_depth=7) \n",
        "dt.fit(X_smt, y_smt)\n"
      ]
    },
    {
      "cell_type": "code",
      "source": [
        "dt_y_pred = dt.predict(X_test_scaled)"
      ],
      "metadata": {
        "id": "j5XMWFE5taUM"
      },
      "execution_count": null,
      "outputs": []
    },
    {
      "cell_type": "code",
      "source": [
        "from sklearn.metrics import roc_auc_score\n",
        "dt_log = roc_auc_score(y_test, dt.predict_proba(X_test_scaled)[:, 1])\n",
        "print(\"The AUROC Score of Decision tree Classifier model\",dt_log)"
      ],
      "metadata": {
        "colab": {
          "base_uri": "https://localhost:8080/"
        },
        "id": "yGgvIvGms6-A",
        "outputId": "b41b3bb7-88d5-4fa0-edac-03c9667fc5fd"
      },
      "execution_count": null,
      "outputs": [
        {
          "output_type": "stream",
          "name": "stdout",
          "text": [
            "The AUROC Score of Decision tree Classifier model 0.891495325878868\n"
          ]
        }
      ]
    },
    {
      "cell_type": "code",
      "execution_count": null,
      "metadata": {
        "colab": {
          "base_uri": "https://localhost:8080/",
          "height": 302
        },
        "id": "gqlbgdGqIeAz",
        "outputId": "794ce847-ac51-48e3-c18d-6e70323bf6db"
      },
      "outputs": [
        {
          "output_type": "execute_result",
          "data": {
            "text/plain": [
              "<sklearn.metrics._plot.roc_curve.RocCurveDisplay at 0x7f10eab16070>"
            ]
          },
          "metadata": {},
          "execution_count": 142
        },
        {
          "output_type": "display_data",
          "data": {
            "text/plain": [
              "<Figure size 432x288 with 1 Axes>"
            ],
            "image/png": "[encoded data removed]"
          },
          "metadata": {}
        }
      ],
      "source": [
        "#plotting ROC Curve\n",
        "RocCurveDisplay.from_estimator(dt, X_test_scaled, y_test)"
      ]
    },
    {
      "cell_type": "code",
      "execution_count": null,
      "metadata": {
        "colab": {
          "base_uri": "https://localhost:8080/"
        },
        "id": "ijZ2VResIf1q",
        "outputId": "c7ed4d74-cbc8-43fc-8fb9-93021e228cf3"
      },
      "outputs": [
        {
          "output_type": "stream",
          "name": "stdout",
          "text": [
            "              precision    recall  f1-score   support\n",
            "\n",
            "           0       0.98      0.78      0.87      7924\n",
            "           1       0.35      0.88      0.50      1060\n",
            "\n",
            "    accuracy                           0.79      8984\n",
            "   macro avg       0.67      0.83      0.69      8984\n",
            "weighted avg       0.91      0.79      0.83      8984\n",
            "\n"
          ]
        }
      ],
      "source": [
        "print(classification_report(y_test,dt_y_pred))"
      ]
    },
    {
      "cell_type": "code",
      "source": [
        "#visualizing confusion matrix\n",
        "cm = confusion_matrix(y_test, dt_y_pred)\n",
        "f = sns.heatmap(cm, annot=True, fmt='d')"
      ],
      "metadata": {
        "colab": {
          "base_uri": "https://localhost:8080/",
          "height": 268
        },
        "id": "iucUfxBS1q1B",
        "outputId": "91c98cc2-36a5-4774-8a4f-ff4903a23ee4"
      },
      "execution_count": null,
      "outputs": [
        {
          "output_type": "display_data",
          "data": {
            "text/plain": [
              "<Figure size 432x288 with 2 Axes>"
            ],
            "image/png": "[encoded data removed]"
          },
          "metadata": {}
        }
      ]
    },
    {
      "cell_type": "markdown",
      "metadata": {
        "id": "-KzQ8-TMI02M"
      },
      "source": [
        "**Random Forest classifier**"
      ]
    },
    {
      "cell_type": "code",
      "execution_count": null,
      "metadata": {
        "colab": {
          "base_uri": "https://localhost:8080/",
          "height": 74
        },
        "id": "2jukULL9I4CU",
        "outputId": "af5a9d77-4c62-4050-9c18-aa978a42e423"
      },
      "outputs": [
        {
          "output_type": "execute_result",
          "data": {
            "text/plain": [
              "RandomForestClassifier(max_depth=7)"
            ],
            "text/html": [
              "<style>#sk-container-id-1 {color: black;background-color: white;}#sk-container-id-1 pre{padding: 0;}#sk-container-id-1 div.sk-toggleable {background-color: white;}#sk-container-id-1 label.sk-toggleable__label {cursor: pointer;display: block;width: 100%;margin-bottom: 0;padding: 0.3em;box-sizing: border-box;text-align: center;}#sk-container-id-1 label.sk-toggleable__label-arrow:before {content: \"▸\";float: left;margin-right: 0.25em;color: #696969;}#sk-container-id-1 label.sk-toggleable__label-arrow:hover:before {color: black;}#sk-container-id-1 div.sk-estimator:hover label.sk-toggleable__label-arrow:before {color: black;}#sk-container-id-1 div.sk-toggleable__content {max-height: 0;max-width: 0;overflow: hidden;text-align: left;background-color: #f0f8ff;}#sk-container-id-1 div.sk-toggleable__content pre {margin: 0.2em;color: black;border-radius: 0.25em;background-color: #f0f8ff;}#sk-container-id-1 input.sk-toggleable__control:checked~div.sk-toggleable__content {max-height: 200px;max-width: 100%;overflow: auto;}#sk-container-id-1 input.sk-toggleable__control:checked~label.sk-toggleable__label-arrow:before {content: \"▾\";}#sk-container-id-1 div.sk-estimator input.sk-toggleable__control:checked~label.sk-toggleable__label {background-color: #d4ebff;}#sk-container-id-1 div.sk-label input.sk-toggleable__control:checked~label.sk-toggleable__label {background-color: #d4ebff;}#sk-container-id-1 input.sk-hidden--visually {border: 0;clip: rect(1px 1px 1px 1px);clip: rect(1px, 1px, 1px, 1px);height: 1px;margin: -1px;overflow: hidden;padding: 0;position: absolute;width: 1px;}#sk-container-id-1 div.sk-estimator {font-family: monospace;background-color: #f0f8ff;border: 1px dotted black;border-radius: 0.25em;box-sizing: border-box;margin-bottom: 0.5em;}#sk-container-id-1 div.sk-estimator:hover {background-color: #d4ebff;}#sk-container-id-1 div.sk-parallel-item::after {content: \"\";width: 100%;border-bottom: 1px solid gray;flex-grow: 1;}#sk-container-id-1 div.sk-label:hover label.sk-toggleable__label {background-color: #d4ebff;}#sk-container-id-1 div.sk-serial::before {content: \"\";position: absolute;border-left: 1px solid gray;box-sizing: border-box;top: 0;bottom: 0;left: 50%;z-index: 0;}#sk-container-id-1 div.sk-serial {display: flex;flex-direction: column;align-items: center;background-color: white;padding-right: 0.2em;padding-left: 0.2em;position: relative;}#sk-container-id-1 div.sk-item {position: relative;z-index: 1;}#sk-container-id-1 div.sk-parallel {display: flex;align-items: stretch;justify-content: center;background-color: white;position: relative;}#sk-container-id-1 div.sk-item::before, #sk-container-id-1 div.sk-parallel-item::before {content: \"\";position: absolute;border-left: 1px solid gray;box-sizing: border-box;top: 0;bottom: 0;left: 50%;z-index: -1;}#sk-container-id-1 div.sk-parallel-item {display: flex;flex-direction: column;z-index: 1;position: relative;background-color: white;}#sk-container-id-1 div.sk-parallel-item:first-child::after {align-self: flex-end;width: 50%;}#sk-container-id-1 div.sk-parallel-item:last-child::after {align-self: flex-start;width: 50%;}#sk-container-id-1 div.sk-parallel-item:only-child::after {width: 0;}#sk-container-id-1 div.sk-dashed-wrapped {border: 1px dashed gray;margin: 0 0.4em 0.5em 0.4em;box-sizing: border-box;padding-bottom: 0.4em;background-color: white;}#sk-container-id-1 div.sk-label label {font-family: monospace;font-weight: bold;display: inline-block;line-height: 1.2em;}#sk-container-id-1 div.sk-label-container {text-align: center;}#sk-container-id-1 div.sk-container {/* jupyter's `normalize.less` sets `[hidden] { display: none; }` but bootstrap.min.css set `[hidden] { display: none !important; }` so we also need the `!important` here to be able to override the default hidden behavior on the sphinx rendered scikit-learn.org. See: https://github.com/scikit-learn/scikit-learn/issues/21755 */display: inline-block !important;position: relative;}#sk-container-id-1 div.sk-text-repr-fallback {display: none;}</style><div id=\"sk-container-id-1\" class=\"sk-top-container\"><div class=\"sk-text-repr-fallback\"><pre>RandomForestClassifier(max_depth=7)</pre><b>In a Jupyter environment, please rerun this cell to show the HTML representation or trust the notebook. <br />On GitHub, the HTML representation is unable to render, please try loading this page with nbviewer.org.</b></div><div class=\"sk-container\" hidden><div class=\"sk-item\"><div class=\"sk-estimator sk-toggleable\"><input class=\"sk-toggleable__control sk-hidden--visually\" id=\"sk-estimator-id-1\" type=\"checkbox\" checked><label for=\"sk-estimator-id-1\" class=\"sk-toggleable__label sk-toggleable__label-arrow\">RandomForestClassifier</label><div class=\"sk-toggleable__content\"><pre>RandomForestClassifier(max_depth=7)</pre></div></div></div></div></div>"
            ]
          },
          "metadata": {},
          "execution_count": 137
        }
      ],
      "source": [
        "from sklearn.ensemble import RandomForestClassifier\n",
        "rf = RandomForestClassifier(n_estimators= 100, max_depth = 7, max_features='sqrt')\n",
        "rf.fit(X_smt,y_smt)"
      ]
    },
    {
      "cell_type": "code",
      "execution_count": null,
      "metadata": {
        "colab": {
          "base_uri": "https://localhost:8080/"
        },
        "id": "XzGtyuVMI4FD",
        "outputId": "a68799d0-a2df-40ce-aeeb-9e3bffd998d9"
      },
      "outputs": [
        {
          "output_type": "execute_result",
          "data": {
            "text/plain": [
              "array([0, 1, 0, ..., 0, 1, 0])"
            ]
          },
          "metadata": {},
          "execution_count": 138
        }
      ],
      "source": [
        "rf_y_pred = rf.predict(X_test_scaled)\n",
        "rf_y_pred"
      ]
    },
    {
      "cell_type": "code",
      "source": [
        "from sklearn.metrics import roc_auc_score\n",
        "rf_log = roc_auc_score(y_test, rf.predict_proba(X_test_scaled)[:, 1])\n",
        "print(\"The AUROC Score of Random Forest classifier model\",dt_log)"
      ],
      "metadata": {
        "colab": {
          "base_uri": "https://localhost:8080/"
        },
        "id": "cpwJRzehuCjE",
        "outputId": "232b8c9b-9c33-4d49-b5f4-22e9ea680607"
      },
      "execution_count": null,
      "outputs": [
        {
          "output_type": "stream",
          "name": "stdout",
          "text": [
            "The AUROC Score of Random Forest classifier model 0.9191768141685637\n"
          ]
        }
      ]
    },
    {
      "cell_type": "code",
      "execution_count": null,
      "metadata": {
        "colab": {
          "base_uri": "https://localhost:8080/",
          "height": 302
        },
        "id": "Vkq0QvN3I4JR",
        "outputId": "d44281d9-9010-4977-a849-6f1a486ae297"
      },
      "outputs": [
        {
          "output_type": "execute_result",
          "data": {
            "text/plain": [
              "<sklearn.metrics._plot.roc_curve.RocCurveDisplay at 0x7f10ea9a8130>"
            ]
          },
          "metadata": {},
          "execution_count": 154
        },
        {
          "output_type": "display_data",
          "data": {
            "text/plain": [
              "<Figure size 432x288 with 1 Axes>"
            ],
            "image/png": "[encoded data removed]"
          },
          "metadata": {}
        }
      ],
      "source": [
        "#plotting ROC Curve\n",
        "RocCurveDisplay.from_estimator(rf, X_test_scaled, y_test)"
      ]
    },
    {
      "cell_type": "code",
      "source": [
        "print(classification_report(y_test,rf_y_pred))"
      ],
      "metadata": {
        "colab": {
          "base_uri": "https://localhost:8080/"
        },
        "id": "GjyCWlrE2CCC",
        "outputId": "cfc9fbda-1cfd-421b-a863-6f39b8c42eb8"
      },
      "execution_count": null,
      "outputs": [
        {
          "output_type": "stream",
          "name": "stdout",
          "text": [
            "              precision    recall  f1-score   support\n",
            "\n",
            "           0       0.98      0.82      0.89      7924\n",
            "           1       0.40      0.89      0.55      1060\n",
            "\n",
            "    accuracy                           0.83      8984\n",
            "   macro avg       0.69      0.86      0.72      8984\n",
            "weighted avg       0.91      0.83      0.85      8984\n",
            "\n"
          ]
        }
      ]
    },
    {
      "cell_type": "code",
      "source": [
        "#visualizing confusion matrix\n",
        "cm = confusion_matrix(y_test, rf_y_pred)\n",
        "f = sns.heatmap(cm, annot=True, fmt='d')"
      ],
      "metadata": {
        "colab": {
          "base_uri": "https://localhost:8080/",
          "height": 268
        },
        "id": "NSueXImD11vN",
        "outputId": "a229e620-7234-4309-b559-ecc7c2dcd904"
      },
      "execution_count": null,
      "outputs": [
        {
          "output_type": "display_data",
          "data": {
            "text/plain": [
              "<Figure size 432x288 with 2 Axes>"
            ],
            "image/png": "[encoded data removed]"
          },
          "metadata": {}
        }
      ]
    },
    {
      "cell_type": "markdown",
      "metadata": {
        "id": "F_hDa6U9Qzwc"
      },
      "source": [
        "**XG Boost**"
      ]
    },
    {
      "cell_type": "code",
      "execution_count": null,
      "metadata": {
        "colab": {
          "base_uri": "https://localhost:8080/"
        },
        "id": "m092RZpWKo-d",
        "outputId": "3b668895-4c34-455f-f768-cac71e9f51d9"
      },
      "outputs": [
        {
          "output_type": "stream",
          "name": "stdout",
          "text": [
            "Learning rate :  0.01  Train score :  0.8172153730554087  Cross-Val score :  0.9007872461462428\n",
            "Learning rate :  0.02  Train score :  0.8219464002449002  Cross-Val score :  0.9017612618117123\n",
            "Learning rate :  0.03  Train score :  0.8275123145854786  Cross-Val score :  0.9019560773351882\n",
            "Learning rate :  0.04  Train score :  0.8360559930982662  Cross-Val score :  0.9030692602214069\n",
            "Learning rate :  0.05  Train score :  0.84485013775638  Cross-Val score :  0.9027631558364663\n",
            "Learning rate :  0.06  Train score :  0.849970778949712  Cross-Val score :  0.9032919386161895\n",
            "Learning rate :  0.07  Train score :  0.8566498761584059  Cross-Val score :  0.9037372334538454\n",
            "Learning rate :  0.08  Train score :  0.8624105975009044  Cross-Val score :  0.9040711697341381\n",
            "Learning rate :  0.09  Train score :  0.868700080705758  Cross-Val score :  0.9041546963961491\n",
            "Learning rate :  0.1  Train score :  0.871761333593076  Cross-Val score :  0.9042103834188191\n",
            "Learning rate :  0.11  Train score :  0.8747669273369882  Cross-Val score :  0.9049896997206434\n",
            "Learning rate :  0.12  Train score :  0.8766036790693791  Cross-Val score :  0.9040991023013429\n",
            "Learning rate :  0.13  Train score :  0.8797205911001029  Cross-Val score :  0.9042661246494103\n",
            "Learning rate :  0.14  Train score :  0.8820026159797401  Cross-Val score :  0.9030137435664878\n",
            "Learning rate :  0.15  Train score :  0.8830323101327471  Cross-Val score :  0.9045442887231572\n",
            "Learning rate :  0.2  Train score :  0.8911585450699914  Cross-Val score :  0.9032921322159068\n",
            "Learning rate :  0.5  Train score :  0.9084963682408927  Cross-Val score :  0.9002307476309976\n",
            "Learning rate :  0.7  Train score :  0.9140066234380653  Cross-Val score :  0.8980045832022663\n",
            "Learning rate :  1  Train score :  0.9177357860462527  Cross-Val score :  0.8939411264808635\n"
          ]
        }
      ],
      "source": [
        "import xgboost as xgb\n",
        "for lr in [0.01,0.02,0.03,0.04,0.05,0.06,0.07,0.08,0.09,0.1,0.11,0.12,0.13,0.14,0.15,0.2,0.5,0.7,1]:\n",
        "  model = xgb.XGBClassifier(learning_rate = lr, n_estimators=100, verbosity = 0) # initialise the model\n",
        "  model.fit(X_smt,y_smt) #train the model\n",
        "  print(\"Learning rate : \", lr, \" Train score : \", model.score(X_train_scaled,y_train), \" Cross-Val score : \", np.mean(cross_val_score(model, X_train_scaled, y_train, cv=10)))"
      ]
    },
    {
      "cell_type": "code",
      "execution_count": null,
      "metadata": {
        "colab": {
          "base_uri": "https://localhost:8080/",
          "height": 645
        },
        "id": "4dnP9vbgRd5I",
        "outputId": "345f0027-0cd8-4c99-ac5e-c5315251bbed"
      },
      "outputs": [
        {
          "output_type": "execute_result",
          "data": {
            "text/plain": [
              "    Learning rate  train score  cv score\n",
              "0            0.01     0.817215  0.900787\n",
              "1            0.02     0.821946  0.901761\n",
              "2            0.03     0.827512  0.901956\n",
              "3            0.04     0.836056  0.903069\n",
              "4            0.05     0.844850  0.902763\n",
              "5            0.06     0.849971  0.903292\n",
              "6            0.07     0.856650  0.903737\n",
              "7            0.08     0.862411  0.904071\n",
              "8            0.09     0.868700  0.904155\n",
              "9            0.10     0.871761  0.904210\n",
              "10           0.11     0.874767  0.904990\n",
              "11           0.12     0.876604  0.904099\n",
              "12           0.13     0.879721  0.904266\n",
              "13           0.14     0.882003  0.903014\n",
              "14           0.15     0.883032  0.904544\n",
              "15           0.20     0.891159  0.903292\n",
              "16           0.50     0.908496  0.900231\n",
              "17           0.70     0.914007  0.898005\n",
              "18           1.00     0.917736  0.893941"
            ],
            "text/html": [
              "\n",
              "  <div id=\"df-92ef9683-22cc-4e43-8c1b-bebdadbead24\">\n",
              "    <div class=\"colab-df-container\">\n",
              "      <div>\n",
              "<style scoped>\n",
              "    .dataframe tbody tr th:only-of-type {\n",
              "        vertical-align: middle;\n",
              "    }\n",
              "\n",
              "    .dataframe tbody tr th {\n",
              "        vertical-align: top;\n",
              "    }\n",
              "\n",
              "    .dataframe thead th {\n",
              "        text-align: right;\n",
              "    }\n",
              "</style>\n",
              "<table border=\"1\" class=\"dataframe\">\n",
              "  <thead>\n",
              "    <tr style=\"text-align: right;\">\n",
              "      <th></th>\n",
              "      <th>Learning rate</th>\n",
              "      <th>train score</th>\n",
              "      <th>cv score</th>\n",
              "    </tr>\n",
              "  </thead>\n",
              "  <tbody>\n",
              "    <tr>\n",
              "      <th>0</th>\n",
              "      <td>0.01</td>\n",
              "      <td>0.817215</td>\n",
              "      <td>0.900787</td>\n",
              "    </tr>\n",
              "    <tr>\n",
              "      <th>1</th>\n",
              "      <td>0.02</td>\n",
              "      <td>0.821946</td>\n",
              "      <td>0.901761</td>\n",
              "    </tr>\n",
              "    <tr>\n",
              "      <th>2</th>\n",
              "      <td>0.03</td>\n",
              "      <td>0.827512</td>\n",
              "      <td>0.901956</td>\n",
              "    </tr>\n",
              "    <tr>\n",
              "      <th>3</th>\n",
              "      <td>0.04</td>\n",
              "      <td>0.836056</td>\n",
              "      <td>0.903069</td>\n",
              "    </tr>\n",
              "    <tr>\n",
              "      <th>4</th>\n",
              "      <td>0.05</td>\n",
              "      <td>0.844850</td>\n",
              "      <td>0.902763</td>\n",
              "    </tr>\n",
              "    <tr>\n",
              "      <th>5</th>\n",
              "      <td>0.06</td>\n",
              "      <td>0.849971</td>\n",
              "      <td>0.903292</td>\n",
              "    </tr>\n",
              "    <tr>\n",
              "      <th>6</th>\n",
              "      <td>0.07</td>\n",
              "      <td>0.856650</td>\n",
              "      <td>0.903737</td>\n",
              "    </tr>\n",
              "    <tr>\n",
              "      <th>7</th>\n",
              "      <td>0.08</td>\n",
              "      <td>0.862411</td>\n",
              "      <td>0.904071</td>\n",
              "    </tr>\n",
              "    <tr>\n",
              "      <th>8</th>\n",
              "      <td>0.09</td>\n",
              "      <td>0.868700</td>\n",
              "      <td>0.904155</td>\n",
              "    </tr>\n",
              "    <tr>\n",
              "      <th>9</th>\n",
              "      <td>0.10</td>\n",
              "      <td>0.871761</td>\n",
              "      <td>0.904210</td>\n",
              "    </tr>\n",
              "    <tr>\n",
              "      <th>10</th>\n",
              "      <td>0.11</td>\n",
              "      <td>0.874767</td>\n",
              "      <td>0.904990</td>\n",
              "    </tr>\n",
              "    <tr>\n",
              "      <th>11</th>\n",
              "      <td>0.12</td>\n",
              "      <td>0.876604</td>\n",
              "      <td>0.904099</td>\n",
              "    </tr>\n",
              "    <tr>\n",
              "      <th>12</th>\n",
              "      <td>0.13</td>\n",
              "      <td>0.879721</td>\n",
              "      <td>0.904266</td>\n",
              "    </tr>\n",
              "    <tr>\n",
              "      <th>13</th>\n",
              "      <td>0.14</td>\n",
              "      <td>0.882003</td>\n",
              "      <td>0.903014</td>\n",
              "    </tr>\n",
              "    <tr>\n",
              "      <th>14</th>\n",
              "      <td>0.15</td>\n",
              "      <td>0.883032</td>\n",
              "      <td>0.904544</td>\n",
              "    </tr>\n",
              "    <tr>\n",
              "      <th>15</th>\n",
              "      <td>0.20</td>\n",
              "      <td>0.891159</td>\n",
              "      <td>0.903292</td>\n",
              "    </tr>\n",
              "    <tr>\n",
              "      <th>16</th>\n",
              "      <td>0.50</td>\n",
              "      <td>0.908496</td>\n",
              "      <td>0.900231</td>\n",
              "    </tr>\n",
              "    <tr>\n",
              "      <th>17</th>\n",
              "      <td>0.70</td>\n",
              "      <td>0.914007</td>\n",
              "      <td>0.898005</td>\n",
              "    </tr>\n",
              "    <tr>\n",
              "      <th>18</th>\n",
              "      <td>1.00</td>\n",
              "      <td>0.917736</td>\n",
              "      <td>0.893941</td>\n",
              "    </tr>\n",
              "  </tbody>\n",
              "</table>\n",
              "</div>\n",
              "      <button class=\"colab-df-convert\" onclick=\"convertToInteractive('df-92ef9683-22cc-4e43-8c1b-bebdadbead24')\"\n",
              "              title=\"Convert this dataframe to an interactive table.\"\n",
              "              style=\"display:none;\">\n",
              "        \n",
              "  <svg xmlns=\"http://www.w3.org/2000/svg\" height=\"24px\"viewBox=\"0 0 24 24\"\n",
              "       width=\"24px\">\n",
              "    <path d=\"M0 0h24v24H0V0z\" fill=\"none\"/>\n",
              "    <path d=\"M18.56 5.44l.94 2.06.94-2.06 2.06-.94-2.06-.94-.94-2.06-.94 2.06-2.06.94zm-11 1L8.5 8.5l.94-2.06 2.06-.94-2.06-.94L8.5 2.5l-.94 2.06-2.06.94zm10 10l.94 2.06.94-2.06 2.06-.94-2.06-.94-.94-2.06-.94 2.06-2.06.94z\"/><path d=\"M17.41 7.96l-1.37-1.37c-.4-.4-.92-.59-1.43-.59-.52 0-1.04.2-1.43.59L10.3 9.45l-7.72 7.72c-.78.78-.78 2.05 0 2.83L4 21.41c.39.39.9.59 1.41.59.51 0 1.02-.2 1.41-.59l7.78-7.78 2.81-2.81c.8-.78.8-2.07 0-2.86zM5.41 20L4 18.59l7.72-7.72 1.47 1.35L5.41 20z\"/>\n",
              "  </svg>\n",
              "      </button>\n",
              "      \n",
              "  <style>\n",
              "    .colab-df-container {\n",
              "      display:flex;\n",
              "      flex-wrap:wrap;\n",
              "      gap: 12px;\n",
              "    }\n",
              "\n",
              "    .colab-df-convert {\n",
              "      background-color: #E8F0FE;\n",
              "      border: none;\n",
              "      border-radius: 50%;\n",
              "      cursor: pointer;\n",
              "      display: none;\n",
              "      fill: #1967D2;\n",
              "      height: 32px;\n",
              "      padding: 0 0 0 0;\n",
              "      width: 32px;\n",
              "    }\n",
              "\n",
              "    .colab-df-convert:hover {\n",
              "      background-color: #E2EBFA;\n",
              "      box-shadow: 0px 1px 2px rgba(60, 64, 67, 0.3), 0px 1px 3px 1px rgba(60, 64, 67, 0.15);\n",
              "      fill: #174EA6;\n",
              "    }\n",
              "\n",
              "    [theme=dark] .colab-df-convert {\n",
              "      background-color: #3B4455;\n",
              "      fill: #D2E3FC;\n",
              "    }\n",
              "\n",
              "    [theme=dark] .colab-df-convert:hover {\n",
              "      background-color: #434B5C;\n",
              "      box-shadow: 0px 1px 3px 1px rgba(0, 0, 0, 0.15);\n",
              "      filter: drop-shadow(0px 1px 2px rgba(0, 0, 0, 0.3));\n",
              "      fill: #FFFFFF;\n",
              "    }\n",
              "  </style>\n",
              "\n",
              "      <script>\n",
              "        const buttonEl =\n",
              "          document.querySelector('#df-92ef9683-22cc-4e43-8c1b-bebdadbead24 button.colab-df-convert');\n",
              "        buttonEl.style.display =\n",
              "          google.colab.kernel.accessAllowed ? 'block' : 'none';\n",
              "\n",
              "        async function convertToInteractive(key) {\n",
              "          const element = document.querySelector('#df-92ef9683-22cc-4e43-8c1b-bebdadbead24');\n",
              "          const dataTable =\n",
              "            await google.colab.kernel.invokeFunction('convertToInteractive',\n",
              "                                                     [key], {});\n",
              "          if (!dataTable) return;\n",
              "\n",
              "          const docLinkHtml = 'Like what you see? Visit the ' +\n",
              "            '<a target=\"_blank\" href=https://colab.research.google.com/notebooks/data_table.ipynb>data table notebook</a>'\n",
              "            + ' to learn more about interactive tables.';\n",
              "          element.innerHTML = '';\n",
              "          dataTable['output_type'] = 'display_data';\n",
              "          await google.colab.output.renderOutput(dataTable, element);\n",
              "          const docLink = document.createElement('div');\n",
              "          docLink.innerHTML = docLinkHtml;\n",
              "          element.appendChild(docLink);\n",
              "        }\n",
              "      </script>\n",
              "    </div>\n",
              "  </div>\n",
              "  "
            ]
          },
          "metadata": {},
          "execution_count": 160
        }
      ],
      "source": [
        "xg_dict = {'Learning rate':[],'train score':[],'cv score':[]}\n",
        "for lr in [0.01,0.02,0.03,0.04,0.05,0.06,0.07,0.08,0.09,0.1,0.11,0.12,0.13,0.14,0.15,0.2,0.5,0.7,1]:\n",
        "  model = xgb.XGBClassifier(learning_rate = lr, n_estimators=100, verbosity = 0) # initialise the model\n",
        "  model.fit(X_smt,y_smt) #train the model\n",
        "  xg_dict['Learning rate'].append(lr)\n",
        "  xg_dict['train score'].append(model.score(X_train_scaled,y_train))\n",
        "  xg_dict['cv score'].append(np.mean(cross_val_score(model, X_train_scaled, y_train, cv=10)))\n",
        "\n",
        "pd.DataFrame(xg_dict)"
      ]
    },
    {
      "cell_type": "code",
      "execution_count": null,
      "metadata": {
        "colab": {
          "base_uri": "https://localhost:8080/",
          "height": 51
        },
        "id": "oROJabvWSXHx",
        "outputId": "684ffc7c-9cb9-4aa0-ee2f-ef86e88c4a96"
      },
      "outputs": [
        {
          "output_type": "execute_result",
          "data": {
            "text/plain": [
              "XGBClassifier(base_score=None, booster=None, callbacks=None,\n",
              "              colsample_bylevel=None, colsample_bynode=None,\n",
              "              colsample_bytree=None, early_stopping_rounds=None,\n",
              "              enable_categorical=False, eval_metric=None, feature_types=None,\n",
              "              gamma=None, gpu_id=None, grow_policy=None, importance_type=None,\n",
              "              interaction_constraints=None, learning_rate=0.5, max_bin=None,\n",
              "              max_cat_threshold=None, max_cat_to_onehot=None,\n",
              "              max_delta_step=None, max_depth=None, max_leaves=None,\n",
              "              min_child_weight=None, missing=nan, monotone_constraints=None,\n",
              "              n_estimators=100, n_jobs=None, num_parallel_tree=None,\n",
              "              predictor=None, random_state=None, ...)"
            ],
            "text/html": [
              "<style>#sk-container-id-5 {color: black;background-color: white;}#sk-container-id-5 pre{padding: 0;}#sk-container-id-5 div.sk-toggleable {background-color: white;}#sk-container-id-5 label.sk-toggleable__label {cursor: pointer;display: block;width: 100%;margin-bottom: 0;padding: 0.3em;box-sizing: border-box;text-align: center;}#sk-container-id-5 label.sk-toggleable__label-arrow:before {content: \"▸\";float: left;margin-right: 0.25em;color: #696969;}#sk-container-id-5 label.sk-toggleable__label-arrow:hover:before {color: black;}#sk-container-id-5 div.sk-estimator:hover label.sk-toggleable__label-arrow:before {color: black;}#sk-container-id-5 div.sk-toggleable__content {max-height: 0;max-width: 0;overflow: hidden;text-align: left;background-color: #f0f8ff;}#sk-container-id-5 div.sk-toggleable__content pre {margin: 0.2em;color: black;border-radius: 0.25em;background-color: #f0f8ff;}#sk-container-id-5 input.sk-toggleable__control:checked~div.sk-toggleable__content {max-height: 200px;max-width: 100%;overflow: auto;}#sk-container-id-5 input.sk-toggleable__control:checked~label.sk-toggleable__label-arrow:before {content: \"▾\";}#sk-container-id-5 div.sk-estimator input.sk-toggleable__control:checked~label.sk-toggleable__label {background-color: #d4ebff;}#sk-container-id-5 div.sk-label input.sk-toggleable__control:checked~label.sk-toggleable__label {background-color: #d4ebff;}#sk-container-id-5 input.sk-hidden--visually {border: 0;clip: rect(1px 1px 1px 1px);clip: rect(1px, 1px, 1px, 1px);height: 1px;margin: -1px;overflow: hidden;padding: 0;position: absolute;width: 1px;}#sk-container-id-5 div.sk-estimator {font-family: monospace;background-color: #f0f8ff;border: 1px dotted black;border-radius: 0.25em;box-sizing: border-box;margin-bottom: 0.5em;}#sk-container-id-5 div.sk-estimator:hover {background-color: #d4ebff;}#sk-container-id-5 div.sk-parallel-item::after {content: \"\";width: 100%;border-bottom: 1px solid gray;flex-grow: 1;}#sk-container-id-5 div.sk-label:hover label.sk-toggleable__label {background-color: #d4ebff;}#sk-container-id-5 div.sk-serial::before {content: \"\";position: absolute;border-left: 1px solid gray;box-sizing: border-box;top: 0;bottom: 0;left: 50%;z-index: 0;}#sk-container-id-5 div.sk-serial {display: flex;flex-direction: column;align-items: center;background-color: white;padding-right: 0.2em;padding-left: 0.2em;position: relative;}#sk-container-id-5 div.sk-item {position: relative;z-index: 1;}#sk-container-id-5 div.sk-parallel {display: flex;align-items: stretch;justify-content: center;background-color: white;position: relative;}#sk-container-id-5 div.sk-item::before, #sk-container-id-5 div.sk-parallel-item::before {content: \"\";position: absolute;border-left: 1px solid gray;box-sizing: border-box;top: 0;bottom: 0;left: 50%;z-index: -1;}#sk-container-id-5 div.sk-parallel-item {display: flex;flex-direction: column;z-index: 1;position: relative;background-color: white;}#sk-container-id-5 div.sk-parallel-item:first-child::after {align-self: flex-end;width: 50%;}#sk-container-id-5 div.sk-parallel-item:last-child::after {align-self: flex-start;width: 50%;}#sk-container-id-5 div.sk-parallel-item:only-child::after {width: 0;}#sk-container-id-5 div.sk-dashed-wrapped {border: 1px dashed gray;margin: 0 0.4em 0.5em 0.4em;box-sizing: border-box;padding-bottom: 0.4em;background-color: white;}#sk-container-id-5 div.sk-label label {font-family: monospace;font-weight: bold;display: inline-block;line-height: 1.2em;}#sk-container-id-5 div.sk-label-container {text-align: center;}#sk-container-id-5 div.sk-container {/* jupyter's `normalize.less` sets `[hidden] { display: none; }` but bootstrap.min.css set `[hidden] { display: none !important; }` so we also need the `!important` here to be able to override the default hidden behavior on the sphinx rendered scikit-learn.org. See: https://github.com/scikit-learn/scikit-learn/issues/21755 */display: inline-block !important;position: relative;}#sk-container-id-5 div.sk-text-repr-fallback {display: none;}</style><div id=\"sk-container-id-5\" class=\"sk-top-container\"><div class=\"sk-text-repr-fallback\"><pre>XGBClassifier(base_score=None, booster=None, callbacks=None,\n",
              "              colsample_bylevel=None, colsample_bynode=None,\n",
              "              colsample_bytree=None, early_stopping_rounds=None,\n",
              "              enable_categorical=False, eval_metric=None, feature_types=None,\n",
              "              gamma=None, gpu_id=None, grow_policy=None, importance_type=None,\n",
              "              interaction_constraints=None, learning_rate=0.5, max_bin=None,\n",
              "              max_cat_threshold=None, max_cat_to_onehot=None,\n",
              "              max_delta_step=None, max_depth=None, max_leaves=None,\n",
              "              min_child_weight=None, missing=nan, monotone_constraints=None,\n",
              "              n_estimators=100, n_jobs=None, num_parallel_tree=None,\n",
              "              predictor=None, random_state=None, ...)</pre><b>In a Jupyter environment, please rerun this cell to show the HTML representation or trust the notebook. <br />On GitHub, the HTML representation is unable to render, please try loading this page with nbviewer.org.</b></div><div class=\"sk-container\" hidden><div class=\"sk-item\"><div class=\"sk-estimator sk-toggleable\"><input class=\"sk-toggleable__control sk-hidden--visually\" id=\"sk-estimator-id-5\" type=\"checkbox\" checked><label for=\"sk-estimator-id-5\" class=\"sk-toggleable__label sk-toggleable__label-arrow\">XGBClassifier</label><div class=\"sk-toggleable__content\"><pre>XGBClassifier(base_score=None, booster=None, callbacks=None,\n",
              "              colsample_bylevel=None, colsample_bynode=None,\n",
              "              colsample_bytree=None, early_stopping_rounds=None,\n",
              "              enable_categorical=False, eval_metric=None, feature_types=None,\n",
              "              gamma=None, gpu_id=None, grow_policy=None, importance_type=None,\n",
              "              interaction_constraints=None, learning_rate=0.5, max_bin=None,\n",
              "              max_cat_threshold=None, max_cat_to_onehot=None,\n",
              "              max_delta_step=None, max_depth=None, max_leaves=None,\n",
              "              min_child_weight=None, missing=nan, monotone_constraints=None,\n",
              "              n_estimators=100, n_jobs=None, num_parallel_tree=None,\n",
              "              predictor=None, random_state=None, ...)</pre></div></div></div></div></div>"
            ]
          },
          "metadata": {},
          "execution_count": 163
        }
      ],
      "source": [
        "#fitting the model\n",
        "xg_model = xgb.XGBClassifier(learning_rate = 0.5, n_estimators=100)\n",
        "xg_model.fit(X_smt,y_smt)"
      ]
    },
    {
      "cell_type": "code",
      "execution_count": null,
      "metadata": {
        "colab": {
          "base_uri": "https://localhost:8080/"
        },
        "id": "wKltN2SQScdt",
        "outputId": "1b452fea-462d-4467-d5bd-f70f093c3404"
      },
      "outputs": [
        {
          "output_type": "execute_result",
          "data": {
            "text/plain": [
              "array([0, 1, 0, ..., 0, 0, 0])"
            ]
          },
          "metadata": {},
          "execution_count": 165
        }
      ],
      "source": [
        "xg_y_pred = xg_model.predict(X_test_scaled)\n",
        "xg_y_pred"
      ]
    },
    {
      "cell_type": "code",
      "source": [
        "from sklearn.metrics import roc_auc_score\n",
        "xg_log = roc_auc_score(y_test, xg_model.predict_proba(X_test_scaled)[:, 1])\n",
        "print(\"The AUROC Score of XG boost model\",xg_log)"
      ],
      "metadata": {
        "colab": {
          "base_uri": "https://localhost:8080/"
        },
        "id": "yKR5UD4zzYVj",
        "outputId": "2b61391c-1b96-4b60-9a84-6dbbd53673d8"
      },
      "execution_count": null,
      "outputs": [
        {
          "output_type": "stream",
          "name": "stdout",
          "text": [
            "The AUROC Score of XG boost model 0.9310361762212719\n"
          ]
        }
      ]
    },
    {
      "cell_type": "code",
      "execution_count": null,
      "metadata": {
        "colab": {
          "base_uri": "https://localhost:8080/",
          "height": 302
        },
        "id": "3iouMIknScgi",
        "outputId": "47f2d942-6b6d-4aa8-89b7-d239ecf5565f"
      },
      "outputs": [
        {
          "output_type": "execute_result",
          "data": {
            "text/plain": [
              "<sklearn.metrics._plot.roc_curve.RocCurveDisplay at 0x7f1131777af0>"
            ]
          },
          "metadata": {},
          "execution_count": 167
        },
        {
          "output_type": "display_data",
          "data": {
            "text/plain": [
              "<Figure size 432x288 with 1 Axes>"
            ],
            "image/png": "[encoded data removed]"
          },
          "metadata": {}
        }
      ],
      "source": [
        "#plotting ROC Curve\n",
        "RocCurveDisplay.from_estimator(xg_model, X_test_scaled, y_test)"
      ]
    },
    {
      "cell_type": "code",
      "source": [
        "print(classification_report(y_test,xg_y_pred))"
      ],
      "metadata": {
        "colab": {
          "base_uri": "https://localhost:8080/"
        },
        "id": "1uvj-IuV2MIW",
        "outputId": "6de30d17-1193-4ed2-fd83-78633a8d8c35"
      },
      "execution_count": null,
      "outputs": [
        {
          "output_type": "stream",
          "name": "stdout",
          "text": [
            "              precision    recall  f1-score   support\n",
            "\n",
            "           0       0.97      0.90      0.93      7924\n",
            "           1       0.50      0.78      0.61      1060\n",
            "\n",
            "    accuracy                           0.88      8984\n",
            "   macro avg       0.73      0.84      0.77      8984\n",
            "weighted avg       0.91      0.88      0.89      8984\n",
            "\n"
          ]
        }
      ]
    },
    {
      "cell_type": "code",
      "source": [
        "#visualizing confusion matrix\n",
        "cm = confusion_matrix(y_test,xg_y_pred)\n",
        "f = sns.heatmap(cm, annot=True, fmt='d')"
      ],
      "metadata": {
        "colab": {
          "base_uri": "https://localhost:8080/",
          "height": 269
        },
        "id": "d8JfZGGF2OrV",
        "outputId": "289c71f7-0828-4741-b0df-9c2de77f453f"
      },
      "execution_count": null,
      "outputs": [
        {
          "output_type": "display_data",
          "data": {
            "text/plain": [
              "<Figure size 432x288 with 2 Axes>"
            ],
            "image/png": "[encoded data removed]"
          },
          "metadata": {}
        }
      ]
    },
    {
      "cell_type": "markdown",
      "source": [
        "# Feature Importances"
      ],
      "metadata": {
        "id": "Y31GtB7H2Utb"
      }
    },
    {
      "cell_type": "code",
      "execution_count": null,
      "metadata": {
        "id": "su6WEzzkadXN"
      },
      "outputs": [],
      "source": [
        "importances = list(rf.feature_importances_)\n",
        "feature_importances = [(feature, round(importance, 2)) for feature, importance in zip(o_feature.columns, importances)]\n",
        "feature_importances = sorted(feature_importances, key = lambda x: x[1], reverse = True)\n",
        "\n",
        "feature_imp_dict = {'features':[],'importance':[]}\n",
        "for pair,value in feature_importances:\n",
        "  feature_imp_dict['features'].append(pair)\n",
        "  feature_imp_dict['importance'].append(value)\n",
        "feature_imp_df = pd.DataFrame(feature_imp_dict)\n",
        "feature_imp_df = feature_imp_df.loc[0:6]\n",
        "  \n",
        "  "
      ]
    },
    {
      "cell_type": "code",
      "execution_count": null,
      "metadata": {
        "colab": {
          "base_uri": "https://localhost:8080/",
          "height": 410
        },
        "id": "phhLaP4hbMgq",
        "outputId": "ecc294a9-5761-42ab-ca47-dc7b903be1e7"
      },
      "outputs": [
        {
          "output_type": "display_data",
          "data": {
            "text/plain": [
              "<Figure size 576x432 with 1 Axes>"
            ],
            "image/png": "[encoded data removed]"
          },
          "metadata": {}
        }
      ],
      "source": [
        "fig, ax = plt.subplots(figsize=(8, 6))\n",
        "sns.barplot(y=feature_imp_df['features'], x=feature_imp_df['importance'],orient='horizonal', ax=ax)\n",
        "plt.xlabel('Feature Importance Score')\n",
        "plt.ylabel('Features')\n",
        "plt.title(\"Visualizing Important Features\")\n",
        "plt.show()"
      ]
    },
    {
      "cell_type": "markdown",
      "source": [
        "# Saving the Model"
      ],
      "metadata": {
        "id": "tvWcZ0c34yU3"
      }
    },
    {
      "cell_type": "code",
      "execution_count": null,
      "metadata": {
        "id": "idncG3kgnwQu"
      },
      "outputs": [],
      "source": [
        "import pickle\n"
      ]
    },
    {
      "cell_type": "code",
      "source": [
        "\n",
        "import pickle\n",
        "filename = \"XGB_model\"\n",
        "pickle.dump(xg_model, open(filename, \"wb\"))#getting Good AUROC score in Xg Boost Model-Saving that model for deployment"
      ],
      "metadata": {
        "id": "n8Hiq7hW2r-B"
      },
      "execution_count": null,
      "outputs": []
    },
    {
      "cell_type": "code",
      "source": [
        "import pickle\n",
        "filename = \"Xgb_model\"\n",
        "pickle.dump(rf, open(filename, \"wb\"))"
      ],
      "metadata": {
        "id": "HizDvZPN3BCN"
      },
      "execution_count": null,
      "outputs": []
    }
  ],
  "metadata": {
    "colab": {
      "provenance": []
    },
    "kernelspec": {
      "display_name": "Python 3",
      "name": "python3"
    },
    "language_info": {
      "name": "python"
    }
  },
  "nbformat": 4,
  "nbformat_minor": 0
}